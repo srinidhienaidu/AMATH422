{
 "cells": [
  {
   "cell_type": "code",
   "execution_count": 50,
   "metadata": {},
   "outputs": [
    {
     "name": "stdout",
     "output_type": "stream",
     "text": [
      "3.7164\n"
     ]
    }
   ],
   "source": [
    "import numpy as np\n",
    "from scipy.optimize import linprog\n",
    "\n",
    "pts = 10000\n",
    "\n",
    "x = np.random.uniform(-1, 1, pts)\n",
    "y = np.random.uniform(-1, 1, pts)\n",
    "\n",
    "inside = (x**4 + y**4) <= 1\n",
    "\n",
    "proportion = np.sum(inside) / pts\n",
    "\n",
    "area = proportion * 4\n",
    "\n",
    "print(area)\n"
   ]
  },
  {
   "cell_type": "code",
   "execution_count": 51,
   "metadata": {},
   "outputs": [
    {
     "name": "stdout",
     "output_type": "stream",
     "text": [
      "Total Shipping Cost : $ 3927.0\n",
      "Shipping Plan (tons):\n",
      "Colorado to Alabama: 0.0\n",
      "Colorado to Minnesota: 95.0\n",
      "Colorado to New Mexico: 55.0\n",
      "Virginia to Alabama: 88.0\n",
      "Virginia to Minnesota: 30.0\n",
      "Virginia to New Mexico: 0.0\n",
      "Optimization terminated successfully. (HiGHS Status 7: Optimal)\n"
     ]
    }
   ],
   "source": [
    "c = [22, 18, 7, 14, 20, 24]  \n",
    "# ca, cm, cn, va, vm, vn\n",
    "Aineq = [\n",
    "[1, 1, 1, 0, 0, 0],\n",
    "[0, 0, 0, 1, 1, 1],\n",
    "[-1, 0, 0, -1, 0, 0],\n",
    "[0, -1, 0, 0, -1, 0],\n",
    "[0, 0, -1, 0, 0, -1]\n",
    "]\n",
    "\n",
    "bineq = [150, 130, -88, -125, -55]\n",
    "\n",
    "Aeq = [\n",
    "    [1, 1, 1, 0, 0, 0],  \n",
    "    [0, 0, 0, 1, 1, 1],  \n",
    "]\n",
    "\n",
    "beq = [150, 130]  \n",
    "\n",
    "xA_bounds = (0, None) \n",
    "xB_bounds = (0, None) \n",
    "xC_bounds = (0, None) \n",
    "xD_bounds = (0, None) \n",
    "xE_bounds = (0, None) \n",
    "xF_bounds = (0, None) \n",
    "\n",
    "res = linprog(c, A_ub=Aineq, b_ub=bineq, bounds=[xA_bounds, xB_bounds, xC_bounds, xD_bounds, xE_bounds, xF_bounds])\n",
    "\n",
    "print(\"Total Shipping Cost : $\", res.fun)\n",
    "print(\"Shipping Plan (tons):\")\n",
    "print(\"Colorado to Alabama:\", res.x[0])\n",
    "print(\"Colorado to Minnesota:\", res.x[1])\n",
    "print(\"Colorado to New Mexico:\", res.x[2])\n",
    "print(\"Virginia to Alabama:\", res.x[3])\n",
    "print(\"Virginia to Minnesota:\", res.x[4])\n",
    "print(\"Virginia to New Mexico:\", res.x[5])\n",
    "print(res.message)\n"
   ]
  },
  {
   "cell_type": "code",
   "execution_count": 53,
   "metadata": {},
   "outputs": [
    {
     "name": "stdout",
     "output_type": "stream",
     "text": [
      "Total Shipping Cost : $ 4821.0\n",
      "Shipping Plan (tons):\n",
      "Colorado to Alabama: 88.0\n",
      "Colorado to Minnesota: 0.0\n",
      "Colorado to New Mexico: 55.0\n",
      "Virginia to Alabama: 0.0\n",
      "Virginia to Minnesota: 125.0\n",
      "Virginia to New Mexico: 0.0\n",
      "Optimization terminated successfully. (HiGHS Status 7: Optimal)\n"
     ]
    }
   ],
   "source": [
    "c = [22, 0, 7, 0, 20, 0]  \n",
    "# ca, cm, cn, va, vm, vn\n",
    "Aineq = [\n",
    "    [1, 0, 1, 0, 0, 0],\n",
    "    [0, 0, 0, 0, 1, 0],\n",
    "    [-1, 0, 0, 0, 0, 0],\n",
    "    [0, 0, 0, 0, -1, 0],\n",
    "    [0, 0, -1, 0, 0, 0]\n",
    "]\n",
    "\n",
    "bineq = [150, 130, -88, -125, -55]\n",
    "\n",
    "Aeq = [\n",
    "    [1, 1, 1, 0, 0, 0],  \n",
    "    [0, 0, 0, 1, 1, 1],  \n",
    "]\n",
    "\n",
    "beq = [150, 130]  \n",
    "\n",
    "xA_bounds = (0, None) \n",
    "xB_bounds = (0, None) \n",
    "xC_bounds = (0, None) \n",
    "xD_bounds = (0, None) \n",
    "xE_bounds = (0, None) \n",
    "xF_bounds = (0, None) \n",
    "\n",
    "res_int = linprog(c, A_ub=Aineq, b_ub=bineq, bounds=[xA_bounds, xB_bounds, xC_bounds, xD_bounds, xE_bounds, xF_bounds])\n",
    "\n",
    "print(\"Total Shipping Cost : $\", res_int.fun)\n",
    "print(\"Shipping Plan (tons):\")\n",
    "print(\"Colorado to Alabama:\", res_int.x[0])\n",
    "print(\"Colorado to Minnesota:\", res_int.x[1])\n",
    "print(\"Colorado to New Mexico:\", res_int.x[2])\n",
    "print(\"Virginia to Alabama:\", res_int.x[3])\n",
    "print(\"Virginia to Minnesota:\", res_int.x[4])\n",
    "print(\"Virginia to New Mexico:\", res_int.x[5])\n",
    "print(res_int.message)\n"
   ]
  },
  {
   "cell_type": "code",
   "execution_count": null,
   "metadata": {},
   "outputs": [
    {
     "data": {
      "text/plain": [
       "0.0"
      ]
     },
     "execution_count": 54,
     "metadata": {},
     "output_type": "execute_result"
    }
   ],
   "source": []
  }
 ],
 "metadata": {
  "kernelspec": {
   "display_name": "cse599n",
   "language": "python",
   "name": "python3"
  },
  "language_info": {
   "codemirror_mode": {
    "name": "ipython",
    "version": 3
   },
   "file_extension": ".py",
   "mimetype": "text/x-python",
   "name": "python",
   "nbconvert_exporter": "python",
   "pygments_lexer": "ipython3",
   "version": "3.8.19"
  }
 },
 "nbformat": 4,
 "nbformat_minor": 2
}
