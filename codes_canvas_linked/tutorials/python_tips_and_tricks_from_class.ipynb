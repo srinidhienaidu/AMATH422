{
 "cells": [
  {
   "cell_type": "markdown",
   "metadata": {},
   "source": [
    "### Python tips and tricks from your classmates"
   ]
  },
  {
   "cell_type": "markdown",
   "metadata": {},
   "source": [
    "#### Python Tips and Tricks\n",
    "Gotcha: Python itself (in my opinion) is a pretty barebones language and for many mathematical functions you have to import math to be able to use the function.\n",
    "Trick: Because python is so barebones there is a python package out there for many, many tasks. Especially for machine learning procedures, chances are someone has written a script or a wrapper that will acheive the task you set out to do.\n"
   ]
  },
  {
   "cell_type": "markdown",
   "metadata": {},
   "source": [
    "**MATLAB GOTCHA:** To determine which elements in an array are prime write your own program instead of using `isprime`.<br/>(Example below)"
   ]
  },
  {
   "cell_type": "code",
   "execution_count": 15,
   "metadata": {},
   "outputs": [
    {
     "name": "stdout",
     "output_type": "stream",
     "text": [
      "23 is a prime number\n"
     ]
    }
   ],
   "source": [
    "# Python program to check prime numbers\n",
    "num = 23\n",
    "if num > 1:\n",
    "    for i in range(2,num):\n",
    "        if (num % i) == 0:\n",
    "            print(num, \"is not a prime number\")\n",
    "            break\n",
    "    else:\n",
    "        print(num,\"is a prime number\")\n",
    "else:\n",
    "    print(num,\"is not a prime number\")"
   ]
  },
  {
   "cell_type": "markdown",
   "metadata": {},
   "source": [
    "**Using MATLAB functions in Python:**  \n",
    "The MATLAB GOTCHA example above illustrates that sometimes there is a MATLAB function better suited to a task than what is available with basic python packages. Seamless transition between MATLAB and Python can be quite helpful and MATLAB has a built-in Python engine. However, installing the MATLAB engine for Python requires a few steps:  \n",
    "*This is a guide for Windows and administrator access may be required\n",
    "1. Have both Python and MATLAB installed on your computer.\n",
    "2. Open the Environment Variables menu on your computer and change the System variable 'Path' to the path to wherever Python is installed. This step ensures that Python can be found by the system, but it may not be neccessary depending on how Python was installed.\n",
    "3. Open up MATLAB and type in the command window:<br/>`cd (fullfile(matlabroor,'extern','engines','python'))  \n",
    "system('python setup.py install')`\n",
    "4. Now that the MATLAB engine is installed, MATLAB functions can be called within Python.  \n",
    "(Example Below)"
   ]
  },
  {
   "cell_type": "code",
   "execution_count": 16,
   "metadata": {},
   "outputs": [
    {
     "name": "stdout",
     "output_type": "stream",
     "text": [
      "True\n"
     ]
    }
   ],
   "source": [
    "# Checking Prime Numbers using MATLAB Function in Python\n",
    "import matlab.engine\n",
    "eng = matlab.engine.start_matlab()\n",
    "tf = eng.isprime(37)\n",
    "print(tf)"
   ]
  },
  {
   "cell_type": "markdown",
   "metadata": {},
   "source": [
    "Gotcha: Python itself (in my opinion) is a pretty barebones language and for many mathematical functions you have to import math to be able to use the function.\n",
    "Trick: Because python is so barebones there is a python package out there for many, many tasks. Especially for machine learning procedures, chances are someone has written a script or a wrapper that will acheive the task you set out to do."
   ]
  },
  {
   "cell_type": "markdown",
   "metadata": {},
   "source": [
    " \n",
    "**Tip 1: List comprehension** in python: a way to simplify your loops and write cleaner code  \n",
    "This example shows how a simple for loop can be replaced when you're just after the iterator"
   ]
  },
  {
   "cell_type": "code",
   "execution_count": 8,
   "metadata": {},
   "outputs": [
    {
     "data": {
      "text/plain": [
       "['w', 'o', 'r', 'd']"
      ]
     },
     "execution_count": 8,
     "metadata": {},
     "output_type": "execute_result"
    }
   ],
   "source": [
    "#For loop method\n",
    "#gets each letter in the string into a list by iterating over the string\n",
    "letters = [] \n",
    "word = 'word'\n",
    "for i in word:\n",
    "    letters.append(i)\n",
    "letters"
   ]
  },
  {
   "cell_type": "code",
   "execution_count": 9,
   "metadata": {},
   "outputs": [
    {
     "data": {
      "text/plain": [
       "['w', 'o', 'r', 'd']"
      ]
     },
     "execution_count": 9,
     "metadata": {},
     "output_type": "execute_result"
    }
   ],
   "source": [
    "#List comprehension method\n",
    "#does the interating over the string directly in the initial list brackets\n",
    "lc_letters = [i for i in word]\n",
    "lc_letters"
   ]
  },
  {
   "cell_type": "markdown",
   "metadata": {},
   "source": [
    "**Tip 2: Set() method** to remove duplicate values in a list   \n",
    "[tip found from this webpage](https://pynative.com/useful-python-tips-and-tricks-every-programmer-should-know/)"
   ]
  },
  {
   "cell_type": "code",
   "execution_count": 7,
   "metadata": {},
   "outputs": [
    {
     "name": "stdout",
     "output_type": "stream",
     "text": [
      "Original=  [20, 22, 24, 26, 28, 28, 20, 30, 24]\n",
      "After removing duplicate=  [20, 22, 24, 26, 28, 30]\n"
     ]
    }
   ],
   "source": [
    "listNumbers = [20, 22, 24, 26, 28, 28, 20, 30, 24]\n",
    "print(\"Original= \", listNumbers)\n",
    "\n",
    "listNumbers = list(set(listNumbers))\n",
    "print(\"After removing duplicate= \", listNumbers)"
   ]
  },
  {
   "cell_type": "markdown",
   "metadata": {},
   "source": [
    "## Some Python tips:\n",
    "    1. two variables in python could easily be exchanged without the introducing of the third variable \n",
    "   "
   ]
  },
  {
   "cell_type": "code",
   "execution_count": 1,
   "metadata": {},
   "outputs": [
    {
     "name": "stdout",
     "output_type": "stream",
     "text": [
      "2\n",
      "1\n"
     ]
    }
   ],
   "source": [
    "a = 1;\n",
    "b = 2;\n",
    "a,b = b,a;\n",
    "print(a)\n",
    "print(b)"
   ]
  },
  {
   "cell_type": "markdown",
   "metadata": {},
   "source": [
    "   2. we can easily reverse a string in python"
   ]
  },
  {
   "cell_type": "code",
   "execution_count": 2,
   "metadata": {},
   "outputs": [
    {
     "name": "stdout",
     "output_type": "stream",
     "text": [
      "224 HTAMA\n"
     ]
    }
   ],
   "source": [
    "a = \"AMATH 422\"\n",
    "print(a[::-1])"
   ]
  },
  {
   "cell_type": "markdown",
   "metadata": {},
   "source": [
    "\n",
    "#### 2: Editing multiple lines at once:\n",
    "One thing useful that I learn online about using JupyterLab is that I can hold down the 'Alt' key and highlight multiple lines, thereby I can enter the same thing over multiple lines at once!"
   ]
  },
  {
   "cell_type": "markdown",
   "metadata": {},
   "source": [
    "**NAMING GOTCHA:** Be very intentional when overwriting previous names of variables and objects. For example, when working with probabilities, make sure not to name a variable np, as a lot of functions will suddenly not work."
   ]
  },
  {
   "cell_type": "code",
   "execution_count": 23,
   "metadata": {},
   "outputs": [
    {
     "ename": "AttributeError",
     "evalue": "'float' object has no attribute 'array'",
     "output_type": "error",
     "traceback": [
      "\u001b[1;31m---------------------------------------------------------------------------\u001b[0m",
      "\u001b[1;31mAttributeError\u001b[0m                            Traceback (most recent call last)",
      "\u001b[1;32m<ipython-input-23-d3e9750b4f90>\u001b[0m in \u001b[0;36m<module>\u001b[1;34m()\u001b[0m\n\u001b[0;32m      7\u001b[0m \u001b[0mnp\u001b[0m \u001b[1;33m=\u001b[0m \u001b[0mn_trials\u001b[0m \u001b[1;33m*\u001b[0m \u001b[0mprob\u001b[0m\u001b[1;33m\u001b[0m\u001b[0m\n\u001b[0;32m      8\u001b[0m \u001b[1;33m\u001b[0m\u001b[0m\n\u001b[1;32m----> 9\u001b[1;33m \u001b[0marray_error\u001b[0m \u001b[1;33m=\u001b[0m \u001b[0mnp\u001b[0m\u001b[1;33m.\u001b[0m\u001b[0marray\u001b[0m\u001b[1;33m(\u001b[0m\u001b[1;33m[\u001b[0m\u001b[1;36m1\u001b[0m\u001b[1;33m,\u001b[0m\u001b[1;36m2\u001b[0m\u001b[1;33m,\u001b[0m\u001b[1;36m3\u001b[0m\u001b[1;33m]\u001b[0m\u001b[1;33m)\u001b[0m\u001b[1;33m\u001b[0m\u001b[0m\n\u001b[0m",
      "\u001b[1;31mAttributeError\u001b[0m: 'float' object has no attribute 'array'"
     ]
    }
   ],
   "source": [
    "import matplotlib.pylab as plt\n",
    "%matplotlib inline  \n",
    "import numpy as np\n",
    "\n",
    "n_trials = 1000\n",
    "prob = 0.3\n",
    "np = n_trials * prob\n",
    "\n",
    "array_error = np.array([1,2,3])"
   ]
  },
  {
   "cell_type": "markdown",
   "metadata": {},
   "source": [
    "**ARRAY INDEX GOTCHA:** While np.arrange() generates an array of integers by default, np.linspace() doesn't. If you want to use linspace as a reference for an array, make sure to explicitly state to treat the values as integers."
   ]
  },
  {
   "cell_type": "code",
   "execution_count": 24,
   "metadata": {},
   "outputs": [],
   "source": [
    "import matplotlib.pylab as plt\n",
    "%matplotlib inline  \n",
    "import numpy as np"
   ]
  },
  {
   "cell_type": "code",
   "execution_count": 36,
   "metadata": {},
   "outputs": [
    {
     "ename": "IndexError",
     "evalue": "only integers, slices (`:`), ellipsis (`...`), numpy.newaxis (`None`) and integer or boolean arrays are valid indices",
     "output_type": "error",
     "traceback": [
      "\u001b[1;31m---------------------------------------------------------------------------\u001b[0m",
      "\u001b[1;31mIndexError\u001b[0m                                Traceback (most recent call last)",
      "\u001b[1;32m<ipython-input-36-53afd991a40e>\u001b[0m in \u001b[0;36m<module>\u001b[1;34m()\u001b[0m\n\u001b[0;32m      1\u001b[0m \u001b[0mcounts\u001b[0m \u001b[1;33m=\u001b[0m \u001b[0mnp\u001b[0m\u001b[1;33m.\u001b[0m\u001b[0marange\u001b[0m\u001b[1;33m(\u001b[0m\u001b[1;36m0\u001b[0m\u001b[1;33m,\u001b[0m\u001b[1;36m101\u001b[0m\u001b[1;33m)\u001b[0m\u001b[1;33m\u001b[0m\u001b[0m\n\u001b[0;32m      2\u001b[0m \u001b[1;32mfor\u001b[0m \u001b[0mi\u001b[0m \u001b[1;32min\u001b[0m \u001b[0mnp\u001b[0m\u001b[1;33m.\u001b[0m\u001b[0mlinspace\u001b[0m\u001b[1;33m(\u001b[0m\u001b[1;36m0\u001b[0m\u001b[1;33m,\u001b[0m\u001b[1;36m100\u001b[0m\u001b[1;33m,\u001b[0m\u001b[1;36m11\u001b[0m\u001b[1;33m)\u001b[0m\u001b[1;33m:\u001b[0m\u001b[1;33m\u001b[0m\u001b[0m\n\u001b[1;32m----> 3\u001b[1;33m     \u001b[0mprint\u001b[0m\u001b[1;33m(\u001b[0m\u001b[0mcounts\u001b[0m\u001b[1;33m[\u001b[0m\u001b[0mi\u001b[0m\u001b[1;33m]\u001b[0m\u001b[1;33m)\u001b[0m      \u001b[1;31m# Results in an error\u001b[0m\u001b[1;33m\u001b[0m\u001b[0m\n\u001b[0m",
      "\u001b[1;31mIndexError\u001b[0m: only integers, slices (`:`), ellipsis (`...`), numpy.newaxis (`None`) and integer or boolean arrays are valid indices"
     ]
    }
   ],
   "source": [
    "counts = np.arange(0,101)\n",
    "for i in np.linspace(0,100,11):\n",
    "    print(counts[i])      # Results in an error"
   ]
  },
  {
   "cell_type": "code",
   "execution_count": 37,
   "metadata": {},
   "outputs": [
    {
     "name": "stdout",
     "output_type": "stream",
     "text": [
      "0\n",
      "10\n",
      "20\n",
      "30\n",
      "40\n",
      "50\n",
      "60\n",
      "70\n",
      "80\n",
      "90\n",
      "100\n"
     ]
    }
   ],
   "source": [
    "counts = np.arange(0,101)\n",
    "for i in np.linspace(0,100,11, dtype = np.int32):\n",
    "    print(counts[i])      # Works!"
   ]
  },
  {
   "cell_type": "markdown",
   "metadata": {},
   "source": [
    "<p>When using latex in notebooks, some of the formatting differs from Overleaf. When using overleaf, the dollar signs indicate math mode and are not needed to use environments such as align. While double dollar signs in notebooks will put your equations in display mode, they won't align the equals signs nicely. In order to do so, double dollar signs need to be used with \\begin{align} and &=. <p>\n",
    "\n",
    "<p>Another thing I learned in this homework is that you don't need to import any additional latex packages after importing matplotlib. For example, in Overleaf, the amssym package would be needed to generate $\\mathbb{N}$, but it is not needed in jupyter notebook. \n",
    "\n",
    "<p> This isn't quite as directly related to python/notebooks, but I found it extremely helpful so I wanted to add it. Since there isn't an automatic spell/grammar check, an easy way to catch mistakes is to download Grammarly (free) and copy/paste code into their site, then all your markdown text can be proofread for simple typos.<p>"
   ]
  },
  {
   "cell_type": "markdown",
   "metadata": {},
   "source": [
    "PROBLEM II:\n",
    "\n",
    "***the first python trick that I learned is:\n",
    "creating a single string from multiple elements in a list:***\n"
   ]
  },
  {
   "cell_type": "code",
   "execution_count": 3,
   "metadata": {},
   "outputs": [
    {
     "name": "stdout",
     "output_type": "stream",
     "text": [
      "ashley is the best student\n"
     ]
    }
   ],
   "source": [
    "example = [\"ashley\",\"is\", \"the\", \"best\", \"student\"]\n",
    "print(\" \".join(example))"
   ]
  },
  {
   "cell_type": "markdown",
   "metadata": {},
   "source": [
    "1. In Python, local functions have to be defined at the top of the script (unlike in MATLAB). Calling functions before defining them in Python will give an error, as the program hasn't read the function yet and won't recognize what's being called.\n",
    "2. In Python,  the log() method actually does natural log (ln) rather than log base 10!\n",
    "3. Unlike Java, Python does not use semicolons (;) to end statements or in the case of MATALB, suppress statements. Only a colon is used to to end certain statements, like the first line of a function. Indenting is very important! That is how your code is organized, and how the program will understand the order of the script."
   ]
  },
  {
   "cell_type": "markdown",
   "metadata": {},
   "source": [
    "When importing something to python there are common abbreviations that most people will use (like np for numpy) but you can actually name it whatever you want, or nothing at all. So if theres something that feels betetr to you you can total use it!\n",
    "\n",
    "Not really a python specific tip, but commenting is great! Ipython does this pretty naturally for you with the different cells, but if you have longer blocks of code breaking them up into sections using comments (even if they feel redundant or simple) can really help make the code more readable if you have back and change something."
   ]
  },
  {
   "cell_type": "markdown",
   "metadata": {},
   "source": [
    "String concatenation in python also allows for multiplication. So in addition to adding two strings together \"one\" + \" two\", you perform the operation \"one\" * 3, which will produce the string \"oneoneone.\" It's another very convenient trick that keeps your code tight but still comprehensive."
   ]
  },
  {
   "cell_type": "markdown",
   "metadata": {},
   "source": [
    "The second trick is **assert**. This is quite useful when you are writing large program and want to check some possible mistakes."
   ]
  },
  {
   "cell_type": "code",
   "execution_count": 31,
   "metadata": {},
   "outputs": [],
   "source": [
    "param = \"lunch\"\n",
    "assert param in ['breakfast', 'lunch', 'dinner']"
   ]
  },
  {
   "cell_type": "code",
   "execution_count": 32,
   "metadata": {},
   "outputs": [
    {
     "ename": "AssertionError",
     "evalue": "",
     "output_type": "error",
     "traceback": [
      "\u001b[0;31m---------------------------------------------------------------------------\u001b[0m",
      "\u001b[0;31mAssertionError\u001b[0m                            Traceback (most recent call last)",
      "\u001b[0;32m<ipython-input-32-40a0d85e0306>\u001b[0m in \u001b[0;36m<module>\u001b[0;34m\u001b[0m\n\u001b[1;32m      1\u001b[0m \u001b[0mparam\u001b[0m \u001b[0;34m=\u001b[0m \u001b[0;34m\"snack\"\u001b[0m\u001b[0;34m\u001b[0m\u001b[0;34m\u001b[0m\u001b[0m\n\u001b[0;32m----> 2\u001b[0;31m \u001b[0;32massert\u001b[0m \u001b[0mparam\u001b[0m \u001b[0;32min\u001b[0m \u001b[0;34m[\u001b[0m\u001b[0;34m'breakfast'\u001b[0m\u001b[0;34m,\u001b[0m \u001b[0;34m'lunch'\u001b[0m\u001b[0;34m,\u001b[0m \u001b[0;34m'dinner'\u001b[0m\u001b[0;34m]\u001b[0m\u001b[0;34m\u001b[0m\u001b[0;34m\u001b[0m\u001b[0m\n\u001b[0m",
      "\u001b[0;31mAssertionError\u001b[0m: "
     ]
    }
   ],
   "source": [
    "param = \"snack\"\n",
    "assert param in ['breakfast', 'lunch', 'dinner']"
   ]
  },
  {
   "cell_type": "markdown",
   "metadata": {},
   "source": [
    "The third one is also pretty commonly encountered. For infinite loop - sometimes needed, while 1 is faster!"
   ]
  },
  {
   "cell_type": "code",
   "execution_count": 60,
   "metadata": {},
   "outputs": [
    {
     "name": "stdout",
     "output_type": "stream",
     "text": [
      "CPU times: user 1.93 ms, sys: 171 µs, total: 2.1 ms\n",
      "Wall time: 2.14 ms\n"
     ]
    }
   ],
   "source": [
    "%%time\n",
    "\n",
    "n = 0\n",
    "while 1:\n",
    "    n += 1\n",
    "    m = n < 10000\n",
    "    if not m:\n",
    "        break"
   ]
  },
  {
   "cell_type": "code",
   "execution_count": 61,
   "metadata": {},
   "outputs": [
    {
     "name": "stdout",
     "output_type": "stream",
     "text": [
      "CPU times: user 2.25 ms, sys: 37 µs, total: 2.28 ms\n",
      "Wall time: 2.28 ms\n"
     ]
    }
   ],
   "source": [
    "%%time\n",
    "\n",
    "n = 0\n",
    "while True:\n",
    "    n += 1\n",
    "    m = n < 10000\n",
    "    if not m:\n",
    "        break"
   ]
  },
  {
   "cell_type": "markdown",
   "metadata": {},
   "source": [
    "The fourth trick is quite useful and it looks neat! We can generate \"generator object\" first for the for loop first, then use \"in\"."
   ]
  },
  {
   "cell_type": "code",
   "execution_count": 46,
   "metadata": {},
   "outputs": [
    {
     "name": "stdout",
     "output_type": "stream",
     "text": [
      "CPU times: user 20.8 s, sys: 113 ms, total: 20.9 s\n",
      "Wall time: 21.2 s\n"
     ]
    }
   ],
   "source": [
    "%%time\n",
    "\n",
    "# short produced this way is called generator object.\n",
    "short = ([x,y,z] for x in range(500) for y in range(500) for z in range(500) if (x*10 + y*20 + z*30 == 2000))\n",
    "for x,y,z in short:\n",
    "    pass"
   ]
  },
  {
   "cell_type": "code",
   "execution_count": 47,
   "metadata": {},
   "outputs": [
    {
     "name": "stdout",
     "output_type": "stream",
     "text": [
      "CPU times: user 26.7 s, sys: 163 ms, total: 26.9 s\n",
      "Wall time: 27.6 s\n"
     ]
    }
   ],
   "source": [
    "%%time\n",
    "\n",
    "for x in range(500):\n",
    "    for y in range(500):\n",
    "        for z in range(500):\n",
    "            if x*10 + y*20 + z*30 == 2000:\n",
    "                 pass"
   ]
  },
  {
   "cell_type": "markdown",
   "metadata": {},
   "source": [
    "A faster way is also possible, but it is just a trick not universal."
   ]
  },
  {
   "cell_type": "code",
   "execution_count": 48,
   "metadata": {},
   "outputs": [
    {
     "name": "stdout",
     "output_type": "stream",
     "text": [
      "CPU times: user 11.2 s, sys: 35.1 ms, total: 11.3 s\n",
      "Wall time: 11.5 s\n"
     ]
    }
   ],
   "source": [
    "%%time\n",
    "\n",
    "shorter = ([x//10,y//20,z//30] for x in range(0, 5000, 10) for y in range(0, 10000, 20) for z in range(0, 15000, 30) if (x + y + z == 2000))\n",
    "for x,y,z in shorter:\n",
    "    pass"
   ]
  },
  {
   "cell_type": "markdown",
   "metadata": {},
   "source": [
    "To load Python code into Jupyter notebook:\n",
    "%load [insert Python filename here]"
   ]
  },
  {
   "cell_type": "markdown",
   "metadata": {},
   "source": [
    "To list all variables: %who"
   ]
  },
  {
   "cell_type": "markdown",
   "metadata": {},
   "source": [
    "To list all variables of a certain type: %who type"
   ]
  },
  {
   "cell_type": "markdown",
   "metadata": {},
   "source": [
    "* you can use python panda to do data processing\n",
    "* you can use # to write notes in python"
   ]
  },
  {
   "cell_type": "markdown",
   "metadata": {},
   "source": []
  },
  {
   "cell_type": "code",
   "execution_count": 4,
   "metadata": {},
   "outputs": [
    {
     "name": "stdout",
     "output_type": "stream",
     "text": [
      "28\n"
     ]
    }
   ],
   "source": [
    "import sys\n",
    "y = 2\n",
    "print(sys.getsizeof(y))"
   ]
  },
  {
   "cell_type": "markdown",
   "metadata": {},
   "source": [
    "GOTCHA: This helps to chec the memory usage of an object."
   ]
  },
  {
   "cell_type": "code",
   "execution_count": 5,
   "metadata": {},
   "outputs": [
    {
     "name": "stdout",
     "output_type": "stream",
     "text": [
      "10 1 2\n"
     ]
    }
   ],
   "source": [
    "def fun():\n",
    "    return 10, 1, 2\n",
    "x, y, z = fun()\n",
    "\n",
    "print(x, y, z)"
   ]
  },
  {
   "cell_type": "markdown",
   "metadata": {},
   "source": [
    "GOTCHA: when we woulike to return multiple values from functions."
   ]
  },
  {
   "cell_type": "code",
   "execution_count": 7,
   "metadata": {},
   "outputs": [
    {
     "name": "stdout",
     "output_type": "stream",
     "text": [
      "False True\n"
     ]
    }
   ],
   "source": [
    "a = 7\n",
    "result_1 = 1 < a < 6\n",
    "result_2 = 5 < a < 10\n",
    "print(result_1, result_2)"
   ]
  },
  {
   "cell_type": "markdown",
   "metadata": {},
   "source": [
    "GOTCHA: we can do chaining of comparison operators in this way."
   ]
  },
  {
   "cell_type": "markdown",
   "metadata": {},
   "source": [
    "If you prefer to have output that uses sentences as well as the results to clearly show what the outcome is, you can concatenate strings and the output with the + symbol as shown below. This is useful for when someone else uses your code so they know exactly what the output is giving them."
   ]
  },
  {
   "cell_type": "code",
   "execution_count": 1,
   "metadata": {},
   "outputs": [
    {
     "name": "stdout",
     "output_type": "stream",
     "text": [
      "The area of the rectangle is 20.\n"
     ]
    }
   ],
   "source": [
    "def area_rectangle(base, height):\n",
    "    area = base * height\n",
    "    print(\"The area of the rectangle is \" + str(area) + \".\")\n",
    "    #Typed words must be in quotes\n",
    "    #Be sure to convert the number output to a string by adding str()\n",
    "\n",
    "area_rectangle(5,4)"
   ]
  },
  {
   "cell_type": "markdown",
   "metadata": {},
   "source": [
    "Similar to the for loop, you can have a **while** loop.  This loop will continue as long as the statement is true.  A basic example is shown below."
   ]
  },
  {
   "cell_type": "code",
   "execution_count": 2,
   "metadata": {},
   "outputs": [
    {
     "name": "stdout",
     "output_type": "stream",
     "text": [
      "4\n",
      "9\n",
      "16\n",
      "25\n",
      "36\n",
      "49\n",
      "64\n",
      "81\n",
      "100\n"
     ]
    }
   ],
   "source": [
    "base = 2\n",
    "while base <= 10:\n",
    "    area = base ** 2\n",
    "    print(area)\n",
    "    base = base + 1"
   ]
  },
  {
   "cell_type": "markdown",
   "metadata": {},
   "source": [
    "Notice that the largest area shown is for a base of 10.  This is because once the base becomes larger than 10, the statement base <= 10 becomes false and the while loop stops. The final statement *base = base + 1* causes the variable *base* to increase by 1 every time the loop is run."
   ]
  },
  {
   "cell_type": "markdown",
   "metadata": {},
   "source": [
    "One tip that I discovered is that in Markdown, to add an extra bland line, you can use the command `<br/><br/>`. Another trick that I discovered in Markdown, is that to change the alignment of your text, use the command `<div align=\"center\">` to center your text. For other alignments, use \"right\" or \"left\" in place of \"center\".  "
   ]
  },
  {
   "cell_type": "markdown",
   "metadata": {},
   "source": [
    "Unlike MATLAB, in Python, you don't have to say \"hold on\" for plots; Python does its version of this command automatically.\n",
    "\n",
    "In Python, the syntax for specifying the line width is different. Instead of typing something such as plot(x,y,'linewidth',2) as you would in MATLAB, in Python, you'd type plt.plot(x,y,linewidth=2).\n",
    "\n",
    "In Python, not equal to is !=. In MATLAB, it's ~=.\n",
    "\n",
    "In Python, comment using #. In MATLAB, it's %."
   ]
  },
  {
   "cell_type": "markdown",
   "metadata": {},
   "source": [
    "When using for loops, make sure the arrays you use to calculate and store numbers has a data type with a large enough range for the numbers you are calculating! float64 is the data type with the largest range.\n",
    "\n",
    "\n",
    "In\\[\\*\\] means that the code is still running. So if the code doesn't seem to be doing anything, check to see if there is a In\\[*\\] next to the cell. The code may just be taking a long time to run! Also, make sure to check that the code has finished running before concluding that there are no errors in your code."
   ]
  },
  {
   "cell_type": "markdown",
   "metadata": {},
   "source": [
    "###  Store all values of List in new separate variables.\n",
    "Say we need to store all values of List separately for further computing, this tip is helpful.  \n",
    "For example:"
   ]
  },
  {
   "cell_type": "code",
   "execution_count": 3,
   "metadata": {},
   "outputs": [
    {
     "name": "stdout",
     "output_type": "stream",
     "text": [
      "2\n",
      "4\n",
      "5\n"
     ]
    }
   ],
   "source": [
    "array = [1, 2, 3, 4, 5] \n",
    "v, w, x, y, z = array # store in 5 separate variables\n",
    "print(w); print(y); print(z)"
   ]
  },
  {
   "cell_type": "markdown",
   "metadata": {},
   "source": [
    "### Calculating Combinations and Permutations.\n",
    "Given the value of N and r. Python can calculate the Ncr (Combinations of N things taken r at a time) and Npr(Permutations of N things taken r at a time) for us.  \n",
    "For example:"
   ]
  },
  {
   "cell_type": "code",
   "execution_count": 4,
   "metadata": {},
   "outputs": [
    {
     "name": "stdout",
     "output_type": "stream",
     "text": [
      "Ncr = 120\n",
      "Npr = 720\n"
     ]
    }
   ],
   "source": [
    "import math # remember to import math package!\n",
    "N = 10 # N things\n",
    "r = 3 # taken r at a time\n",
    "  \n",
    "print(f\"Ncr = {math.comb(N, r)}\") # print the Ncr\n",
    "print(f\"Npr = {math.perm(N, r)}\") # print the Npr"
   ]
  },
  {
   "cell_type": "markdown",
   "metadata": {},
   "source": [
    "Additional Notebook tips\n",
    "\n",
    "1. select multiple cells\n",
    "  \n",
    "  Shift + Down selects the next cell in a downwards direction. \n",
    "  You can also select cells in an upwards direction by using Shift + Up.\n",
    "  \n",
    "2. display of variables\n",
    "  \n",
    "  You can alter a modify the 'ast_note_interactivity' kernel option to make Jupyter do this for any variable or statement on its own line, so   you can see the value of multiple statements at once.\n",
    "\n"
   ]
  },
  {
   "cell_type": "markdown",
   "metadata": {},
   "source": [
    "### Additional Notebook tips"
   ]
  },
  {
   "cell_type": "markdown",
   "metadata": {},
   "source": [
    "1. Looking for shortcuts?\n",
    "\n",
    "We can use **Cmd + Shift + C** to access command palette. This dialog box helps us run any command by name – useful if we don’t know the keyboard shortcut for an action or if what we want to do does not have a keyboard shortcut. "
   ]
  },
  {
   "cell_type": "markdown",
   "metadata": {},
   "source": [
    "2. Want/Hate additional sectors?\n",
    "\n",
    "We can use **Control + Shift + -** to split the current cell into two from where your cursor is. Saving you from copy and paste. Change your mind? No worries! You can also merge cells by selecting multiple cells using **Shift + down** then **Shift + M** to merge cells."
   ]
  },
  {
   "cell_type": "markdown",
   "metadata": {},
   "source": [
    "A single dollar sign gives in-line math-text, whereas double dollar signs gives math-text on the next line.\n",
    "\n",
    "Example:\n",
    "\n",
    "This equation is in line: $F = ma$\n",
    "\n",
    "This equation is on the next line: $$F = ma$$"
   ]
  },
  {
   "cell_type": "markdown",
   "metadata": {
    "tags": []
   },
   "source": [
    "You can orgnanize titles, headings, sub-titles, etc... in a font-size hierarchy by using a different number of hastags before your desired text.\n",
    "\n",
    "# One Hastag\n",
    "\n",
    "## Two Hashtags\n",
    "\n",
    "### Three Hashtags\n",
    "\n",
    "#### Four Hastags\n",
    "\n",
    "##### Five Hashtags\n",
    "\n",
    "Normal text\n"
   ]
  },
  {
   "cell_type": "markdown",
   "metadata": {},
   "source": [
    "$(1)$ 'Enumerate' provides a means of attaching an index to an array being iterated over:"
   ]
  },
  {
   "cell_type": "code",
   "execution_count": 1,
   "metadata": {
    "tags": []
   },
   "outputs": [
    {
     "name": "stdout",
     "output_type": "stream",
     "text": [
      "0 0\n",
      "1 10\n",
      "2 20\n",
      "3 30\n",
      "4 40\n",
      "5 50\n",
      "6 60\n",
      "7 70\n",
      "8 80\n",
      "9 90\n"
     ]
    }
   ],
   "source": [
    "for i, x in enumerate(range(0, 100, 10)):\n",
    "    print(i, x)"
   ]
  },
  {
   "cell_type": "markdown",
   "metadata": {},
   "source": [
    "$(2)$ Functions can be given partial arguments with functools 'partial':"
   ]
  },
  {
   "cell_type": "code",
   "execution_count": 4,
   "metadata": {},
   "outputs": [
    {
     "data": {
      "text/plain": [
       "300"
      ]
     },
     "execution_count": 4,
     "metadata": {},
     "output_type": "execute_result"
    }
   ],
   "source": [
    "from functools import partial\n",
    "\n",
    "def mult(x, y):\n",
    "    return x * y\n",
    "\n",
    "mult_3 = partial(mult, y=3)\n",
    "\n",
    "mult_3(100)"
   ]
  },
  {
   "cell_type": "markdown",
   "metadata": {
    "tags": []
   },
   "source": [
    "### II. Python or notebook tips/tricks\n",
    "\n",
    "1.If you want to creat a newline in Markdown, you can simply add $<br>$ at the end of the line, or you can ddd two or more spaces at the end of a line, and then press Enter to create a newline. In Latex, we usually use \\\\\\\\ or \\par to create a newline, but these methods do not work in ipython notebook.  \n",
    "\n",
    "2.You can combine code from multiple kernels into one notebook by using a double %% prefix with the name of your kernel at the start of each cell that you want to use that Kernel for. You can try %%HTML and %%bash."
   ]
  },
  {
   "cell_type": "markdown",
   "metadata": {},
   "source": [
    "2(b) Trick to find the most frequent value in a list "
   ]
  },
  {
   "cell_type": "code",
   "execution_count": 2,
   "metadata": {},
   "outputs": [
    {
     "name": "stdout",
     "output_type": "stream",
     "text": [
      "5\n"
     ]
    }
   ],
   "source": [
    "b = [5,5,1,2,3,4,6,5]\n",
    "print(max(set(b),key=b.count))"
   ]
  },
  {
   "cell_type": "markdown",
   "metadata": {},
   "source": [
    "2(c)MATLAB GOTCHA: Brackets to get array values vs Brackets to call functions, MATLAB uses the same bracket"
   ]
  },
  {
   "cell_type": "code",
   "execution_count": 3,
   "metadata": {},
   "outputs": [
    {
     "name": "stdout",
     "output_type": "stream",
     "text": [
      "1\n",
      "6\n"
     ]
    }
   ],
   "source": [
    "import numpy as np\n",
    "b = np.array([5,5,1,2,3,4,6,5])\n",
    "print(b[2]) #square brackets to get array values \n",
    "print(max(b)) #round brackets to use function"
   ]
  },
  {
   "cell_type": "markdown",
   "metadata": {},
   "source": [
    "1. Instead of redeclaring variables when variables need to be swapped, the notion ` a, b = b, a ` can be used. \n",
    "\n",
    "2. ` %%time ` can be used to get the runtime for a cell, which can be helpful when working with big data and trying to make code efficient. \n",
    "\n",
    "3. ` os.system('say \"string\"') ` can be used after importing os to create an audio notification for when code finishes running."
   ]
  },
  {
   "cell_type": "markdown",
   "metadata": {},
   "source": [
    "1. Python Notebook cells can be run in any order, there is no linearity. you can ran cell #1, then cell #452, and then cell #5. You can decide the order."
   ]
  },
  {
   "cell_type": "markdown",
   "metadata": {},
   "source": [
    "2. From previous expereince with the Python Notebook, when running long asynchronous code, you should probably wait for the cell to finish running before moving onto other cells that use the same variables. Else, if the first cell hasn't finished running, there may be a chance of a varaible being incorrect or undefined."
   ]
  },
  {
   "cell_type": "markdown",
   "metadata": {
    "tags": []
   },
   "source": [
    "### **II.**\n",
    "1. To resize an image in the notebook, you can use HTML via the following line: ```<img src=\"attachment:image.png\" width=\"[pixels]\">```\n",
    "2. You can use the ```%store``` to store a variable for recovery or to pass between notebooks. ```%store -r``` retrieves the variable."
   ]
  },
  {
   "cell_type": "markdown",
   "metadata": {},
   "source": [
    "#### Jupyter Magic Commands\n",
    "\n",
    "I was roaming on the internet and saw this function in Jupyter Notebook[(Source here.)](https://ipython.readthedocs.io/en/stable/interactive/magics.html#). If the code cell start with a single percent sign, then the line will be interpreted as a built-in command. For example, lsmagic list all the magic functions: "
   ]
  },
  {
   "cell_type": "code",
   "execution_count": 7,
   "metadata": {},
   "outputs": [
    {
     "data": {
      "application/json": {
       "cell": {
        "!": "OSMagics",
        "HTML": "Other",
        "SVG": "Other",
        "bash": "Other",
        "capture": "ExecutionMagics",
        "cmd": "Other",
        "debug": "ExecutionMagics",
        "file": "Other",
        "html": "DisplayMagics",
        "javascript": "DisplayMagics",
        "js": "DisplayMagics",
        "latex": "DisplayMagics",
        "markdown": "DisplayMagics",
        "perl": "Other",
        "prun": "ExecutionMagics",
        "pypy": "Other",
        "python": "Other",
        "python2": "Other",
        "python3": "Other",
        "ruby": "Other",
        "script": "ScriptMagics",
        "sh": "Other",
        "svg": "DisplayMagics",
        "sx": "OSMagics",
        "system": "OSMagics",
        "time": "ExecutionMagics",
        "timeit": "ExecutionMagics",
        "writefile": "OSMagics"
       },
       "line": {
        "alias": "OSMagics",
        "alias_magic": "BasicMagics",
        "autoawait": "AsyncMagics",
        "autocall": "AutoMagics",
        "automagic": "AutoMagics",
        "autosave": "KernelMagics",
        "bookmark": "OSMagics",
        "cd": "OSMagics",
        "clear": "KernelMagics",
        "cls": "KernelMagics",
        "colors": "BasicMagics",
        "conda": "PackagingMagics",
        "config": "ConfigMagics",
        "connect_info": "KernelMagics",
        "copy": "Other",
        "ddir": "Other",
        "debug": "ExecutionMagics",
        "dhist": "OSMagics",
        "dirs": "OSMagics",
        "doctest_mode": "BasicMagics",
        "echo": "Other",
        "ed": "Other",
        "edit": "KernelMagics",
        "env": "OSMagics",
        "gui": "BasicMagics",
        "hist": "Other",
        "history": "HistoryMagics",
        "killbgscripts": "ScriptMagics",
        "ldir": "Other",
        "less": "KernelMagics",
        "load": "CodeMagics",
        "load_ext": "ExtensionMagics",
        "loadpy": "CodeMagics",
        "logoff": "LoggingMagics",
        "logon": "LoggingMagics",
        "logstart": "LoggingMagics",
        "logstate": "LoggingMagics",
        "logstop": "LoggingMagics",
        "ls": "Other",
        "lsmagic": "BasicMagics",
        "macro": "ExecutionMagics",
        "magic": "BasicMagics",
        "matplotlib": "PylabMagics",
        "mkdir": "Other",
        "more": "KernelMagics",
        "notebook": "BasicMagics",
        "page": "BasicMagics",
        "pastebin": "CodeMagics",
        "pdb": "ExecutionMagics",
        "pdef": "NamespaceMagics",
        "pdoc": "NamespaceMagics",
        "pfile": "NamespaceMagics",
        "pinfo": "NamespaceMagics",
        "pinfo2": "NamespaceMagics",
        "pip": "PackagingMagics",
        "popd": "OSMagics",
        "pprint": "BasicMagics",
        "precision": "BasicMagics",
        "prun": "ExecutionMagics",
        "psearch": "NamespaceMagics",
        "psource": "NamespaceMagics",
        "pushd": "OSMagics",
        "pwd": "OSMagics",
        "pycat": "OSMagics",
        "pylab": "PylabMagics",
        "qtconsole": "KernelMagics",
        "quickref": "BasicMagics",
        "recall": "HistoryMagics",
        "rehashx": "OSMagics",
        "reload_ext": "ExtensionMagics",
        "ren": "Other",
        "rep": "Other",
        "rerun": "HistoryMagics",
        "reset": "NamespaceMagics",
        "reset_selective": "NamespaceMagics",
        "rmdir": "Other",
        "run": "ExecutionMagics",
        "save": "CodeMagics",
        "sc": "OSMagics",
        "set_env": "OSMagics",
        "store": "StoreMagics",
        "sx": "OSMagics",
        "system": "OSMagics",
        "tb": "ExecutionMagics",
        "time": "ExecutionMagics",
        "timeit": "ExecutionMagics",
        "unalias": "OSMagics",
        "unload_ext": "ExtensionMagics",
        "who": "NamespaceMagics",
        "who_ls": "NamespaceMagics",
        "whos": "NamespaceMagics",
        "xdel": "NamespaceMagics",
        "xmode": "BasicMagics"
       }
      },
      "text/plain": [
       "Available line magics:\n",
       "%alias  %alias_magic  %autoawait  %autocall  %automagic  %autosave  %bookmark  %cd  %clear  %cls  %colors  %conda  %config  %connect_info  %copy  %ddir  %debug  %dhist  %dirs  %doctest_mode  %echo  %ed  %edit  %env  %gui  %hist  %history  %killbgscripts  %ldir  %less  %load  %load_ext  %loadpy  %logoff  %logon  %logstart  %logstate  %logstop  %ls  %lsmagic  %macro  %magic  %matplotlib  %mkdir  %more  %notebook  %page  %pastebin  %pdb  %pdef  %pdoc  %pfile  %pinfo  %pinfo2  %pip  %popd  %pprint  %precision  %prun  %psearch  %psource  %pushd  %pwd  %pycat  %pylab  %qtconsole  %quickref  %recall  %rehashx  %reload_ext  %ren  %rep  %rerun  %reset  %reset_selective  %rmdir  %run  %save  %sc  %set_env  %store  %sx  %system  %tb  %time  %timeit  %unalias  %unload_ext  %who  %who_ls  %whos  %xdel  %xmode\n",
       "\n",
       "Available cell magics:\n",
       "%%!  %%HTML  %%SVG  %%bash  %%capture  %%cmd  %%debug  %%file  %%html  %%javascript  %%js  %%latex  %%markdown  %%perl  %%prun  %%pypy  %%python  %%python2  %%python3  %%ruby  %%script  %%sh  %%svg  %%sx  %%system  %%time  %%timeit  %%writefile\n",
       "\n",
       "Automagic is ON, % prefix IS NOT needed for line magics."
      ]
     },
     "execution_count": 7,
     "metadata": {},
     "output_type": "execute_result"
    }
   ],
   "source": [
    "%lsmagic"
   ]
  },
  {
   "cell_type": "markdown",
   "metadata": {},
   "source": [
    "And we can directly use `%run` to run other notebook files, or load any other third party magic by running `%load_ext`. If the line starts with two percent signs, then the whole chunk of code becomes magic script. "
   ]
  },
  {
   "cell_type": "markdown",
   "metadata": {},
   "source": [
    "Magic command is used in the import part in tutorial, but they didn't explicitly mention what it was: \n",
    "`%matplotlib inline  ` , which is used to set up matplotlib to work interactively (display charts inline) without importing anything."
   ]
  },
  {
   "cell_type": "markdown",
   "metadata": {},
   "source": [
    "II. python or notebook tips / tricks, or GOTCHAs \n",
    "\n",
    "1) First I would like to share a link for the Letax symbols: [link](https://artofproblemsolving.com/wiki/index.php/LaTeX:Symbols \"LaTeX: Symbols\"). I used it a lot when typing files through Latex and I think it is a great resources to check often when we want to express different mathematical symbols in Jupyter Notebook markdown.\n",
    "\n",
    "2) Since we will mainly use Jupyter Notebook for this course quite often, I think it might be good to share some quick keyboard shortcuts (Mac version):\n",
    "- Shift + Return: run the current cell, select below\n",
    "- Command + Return: run the selected cells\n",
    "- option + Return: run the current cell, insert below\n",
    "- Command + S: save and checkpoint\n",
    "These are just basic shortcuts but I often use them. Also, here is a link for more keyboard shortcuts: [link](https://towardsdatascience.com/jypyter-notebook-shortcuts-bf0101a98330 \"Jupyter Notebook Shortcuts\")"
   ]
  },
  {
   "cell_type": "markdown",
   "metadata": {},
   "source": [
    "There is a python syntax, called list comprehension, which offers an shorter way to create a new list built on an existing list."
   ]
  },
  {
   "cell_type": "code",
   "execution_count": 10,
   "metadata": {},
   "outputs": [
    {
     "data": {
      "text/plain": [
       "[1, 2, 3, 4, 5]"
      ]
     },
     "execution_count": 10,
     "metadata": {},
     "output_type": "execute_result"
    }
   ],
   "source": [
    "list = [element for element in elements]\n",
    "list"
   ]
  },
  {
   "cell_type": "markdown",
   "metadata": {},
   "source": [
    " 1. Using the functions open() and read() like in the following code allows you to open and read text files. If the file is in the same location as your code, you can pass in the file name for the first parameter, otherwise you need to also specify its file path. "
   ]
  },
  {
   "cell_type": "code",
   "execution_count": 2,
   "metadata": {},
   "outputs": [
    {
     "ename": "FileNotFoundError",
     "evalue": "[Errno 2] No such file or directory: 'demofile.txt'",
     "output_type": "error",
     "traceback": [
      "\u001b[1;31m---------------------------------------------------------------------------\u001b[0m",
      "\u001b[1;31mFileNotFoundError\u001b[0m                         Traceback (most recent call last)",
      "\u001b[1;32m<ipython-input-2-304912380861>\u001b[0m in \u001b[0;36m<module>\u001b[1;34m\u001b[0m\n\u001b[1;32m----> 1\u001b[1;33m \u001b[0mf\u001b[0m \u001b[1;33m=\u001b[0m \u001b[0mopen\u001b[0m\u001b[1;33m(\u001b[0m\u001b[1;34m\"demofile.txt\"\u001b[0m\u001b[1;33m,\u001b[0m \u001b[1;34m\"r\"\u001b[0m\u001b[1;33m)\u001b[0m\u001b[1;33m\u001b[0m\u001b[1;33m\u001b[0m\u001b[0m\n\u001b[0m\u001b[0;32m      2\u001b[0m \u001b[0mprint\u001b[0m\u001b[1;33m(\u001b[0m\u001b[0mf\u001b[0m\u001b[1;33m.\u001b[0m\u001b[0mread\u001b[0m\u001b[1;33m(\u001b[0m\u001b[1;33m)\u001b[0m\u001b[1;33m)\u001b[0m\u001b[1;33m\u001b[0m\u001b[1;33m\u001b[0m\u001b[0m\n",
      "\u001b[1;31mFileNotFoundError\u001b[0m: [Errno 2] No such file or directory: 'demofile.txt'"
     ]
    }
   ],
   "source": [
    "f = open(\"filename.txt\", \"r\")\n",
    "print(f.read())"
   ]
  },
  {
   "cell_type": "markdown",
   "metadata": {},
   "source": [
    "2. You can use underscores instead of commas when writing out large numbers to make them easier to read without affecting the way the code runs."
   ]
  },
  {
   "cell_type": "code",
   "execution_count": 4,
   "metadata": {},
   "outputs": [
    {
     "data": {
      "text/plain": [
       "1000000"
      ]
     },
     "execution_count": 4,
     "metadata": {},
     "output_type": "execute_result"
    }
   ],
   "source": [
    "1_000_000"
   ]
  },
  {
   "cell_type": "markdown",
   "metadata": {},
   "source": [
    "II. **Turn this in as markdown and/or code cell(s) within the same ipython notebook!**. Write\n",
    "down at least two additional brief python or notebook tips / tricks, or GOTCHAs - beyond what is in\n",
    "the tutorial - to share with the class.\n",
    "1. If you want to combine two separate cells together in the notebook, you can merge them together by going to Edit > Merge Cell Above/Below. Conversely, you can do the opposite by going to Edit > Split Cell. Copying, cutting, and deleting cells are also in this edit menu. \n",
    "2. Due to the many differences between MATLAB, Python, and NumPy it may be difficult to remember all of the differences in syntax and \"GOTCHAs\" between these. Therefore, Jupyter Notebook has an option to quickly access this. It is in the Help menu in the toolbar and in that menu is a link to the different references, with Help > [Insert Language Here] Reference. \n",
    "3. (For Windows) If for some reason Jupyter cannot be accessed through Anaconda, it is possible to just open Jupyter directly through the Windows Search Bar after opening Anaconda. "
   ]
  },
  {
   "cell_type": "code",
   "execution_count": null,
   "metadata": {},
   "outputs": [],
   "source": []
  },
  {
   "cell_type": "code",
   "execution_count": null,
   "metadata": {},
   "outputs": [],
   "source": []
  }
 ],
 "metadata": {
  "kernelspec": {
   "display_name": "Python 3 (ipykernel)",
   "language": "python",
   "name": "python3"
  },
  "language_info": {
   "codemirror_mode": {
    "name": "ipython",
    "version": 3
   },
   "file_extension": ".py",
   "mimetype": "text/x-python",
   "name": "python",
   "nbconvert_exporter": "python",
   "pygments_lexer": "ipython3",
   "version": "3.8.11"
  }
 },
 "nbformat": 4,
 "nbformat_minor": 4
}
