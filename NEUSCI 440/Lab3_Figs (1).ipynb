{
 "cells": [
  {
   "cell_type": "code",
   "execution_count": 1,
   "metadata": {},
   "outputs": [],
   "source": [
    "import numpy as np\n",
    "import matplotlib.pyplot as plt\n",
    "import neuscitk as ntk\n",
    "\n",
    "dataset = ntk.LabChartDataset('C:\\\\Users\\\\jeann\\\\Desktop\\\\NEUSCI 302\\\\NEUSCI 440\\\\Lab 3 - Roach Flight.mat')"
   ]
  },
  {
   "cell_type": "code",
   "execution_count": null,
   "metadata": {},
   "outputs": [],
   "source": [
    "# Jeremy's moving window max-min code\n",
    "from scipy.ndimage import maximum_filter1d, minimum_filter1d\n",
    "\n",
    "def max_min_moving_window(arr, window_size):\n",
    "    # Ensure window size is an odd number for symmetrical windowing around each element\n",
    "    if window_size % 2 == 0:\n",
    "        raise ValueError(\"window_size must be an odd number\")\n",
    "\n",
    "    # Apply maximum and minimum filters to get the max and min values in each window\n",
    "    max_values = maximum_filter1d(arr, size=window_size, mode='reflect')\n",
    "    min_values = minimum_filter1d(arr, size=window_size, mode='reflect')\n",
    "\n",
    "    # Compute the max-min difference for each window\n",
    "    return max_values - min_values\n",
    "\n",
    "# Jeremy's spike detection code that will only take the first peak within a certain window\n",
    "from scipy.signal import find_peaks\n",
    "def find_emg_peaks(arr, height, distance):\n",
    "    peaks, _ = find_peaks(-arr, -height, distance=distance)\n",
    "    return peaks"
   ]
  },
  {
   "cell_type": "code",
   "execution_count": null,
   "metadata": {},
   "outputs": [],
   "source": [
    "# Mason's code\n",
    "from scipy.ndimage import maximum_filter1d, minimum_filter1d\n",
    "\n",
    "\n",
    "fs = int(dataset.fs)\n",
    "\n",
    "def get_spike_freqs(data, data_start, data_end): \n",
    "\n",
    "    # Select channel data and invert for spike detection\n",
    "    channel = -data[data_start:data_end]\n",
    "    time = np.arange(len(channel)) / fs\n",
    "    \n",
    "    # Set threshold for detection refrac (bufer tiem to prevent double counting)\n",
    "    threshold_factor = 2                #adjust if too many / not enough spikes detected\n",
    "    threshold = threshold_factor * np.std(channel)\n",
    "    refrac_indices = int(0.01 * fs)\n",
    "\n",
    "    # Detect peaks\n",
    "    peaks, properties = find_peaks(channel, height=threshold, distance=refrac_indices)\n",
    "    print(f'Channel {i}: {len(peaks)} spikes detected')\n",
    "\n",
    "    spike_train = np.zeros_like(channel, dtype=int)\n",
    "    spike_train[peaks] = 1\n",
    "\n",
    "    # Get max minus min\n",
    "    def max_min_moving_window(arr, window_size):\n",
    "        # Ensure window size is an odd number for symmetrical windowing around each element\n",
    "        if window_size % 2 == 0:\n",
    "            raise ValueError(\"window_size must be an odd number\")\n",
    "\n",
    "        # Apply maximum and minimum filters to get the max and min values in each window\n",
    "        max_values = maximum_filter1d(arr, size=window_size, mode='reflect')\n",
    "        min_values = minimum_filter1d(arr, size=window_size, mode='reflect')\n",
    "\n",
    "        # Compute the max-min difference for each window\n",
    "        return max_values - min_values\n",
    "\n",
    "    minmax = max_min_moving_window (channel, int(dataset.fs)+1)\n",
    "\n",
    "    return peaks, properties, spike_train, minmax\n",
    "\n",
    "pks, props, spike_train, minmax = get_spike_freqs(dataset.get_block(2)[0], 0, 60*seconds)"
   ]
  }
 ],
 "metadata": {
  "kernelspec": {
   "display_name": "NEUSCI440",
   "language": "python",
   "name": "python3"
  },
  "language_info": {
   "codemirror_mode": {
    "name": "ipython",
    "version": 3
   },
   "file_extension": ".py",
   "mimetype": "text/x-python",
   "name": "python",
   "nbconvert_exporter": "python",
   "pygments_lexer": "ipython3",
   "version": "3.12.5"
  }
 },
 "nbformat": 4,
 "nbformat_minor": 2
}
