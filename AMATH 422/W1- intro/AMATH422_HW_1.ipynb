{
 "cells": [
  {
   "cell_type": "markdown",
   "metadata": {},
   "source": [
    "__Ia) Give the complete citation for the paper: authors, date, journal, pages.__"
   ]
  },
  {
   "cell_type": "markdown",
   "metadata": {},
   "source": [
    "Hopfield J. J. (1982). Neural networks and physical systems with emergent collective computational abilities. Proceedings of the National Academy of Sciences of the United States of America, 79(8), 2554–2558. https://doi.org/10.1073/pnas.79.8.2554"
   ]
  },
  {
   "cell_type": "markdown",
   "metadata": {},
   "source": [
    "__Ib) What was the purpose of the model – that is, what was accomplished by building and using\n",
    "the model?__"
   ]
  },
  {
   "cell_type": "markdown",
   "metadata": {},
   "source": [
    "The overall purpose of this model is to produce a model of content-addressable memory that is time evolving. Additionally, this model addresses the question of if underlying phenomena in a system of simple, interacting neurons has useful computational correlates. More specifically, a Hopfield network is bidirectional and symetric (this is a fundamental difference between a Hopfield network and the Perceptron, which only operates in a unilateral direction). The model can be used as a model for human associative learning, and utilizes a Hebbian learning rule, which characterizes learning as the result of strengthening of weights in neuronal activity. "
   ]
  },
  {
   "cell_type": "markdown",
   "metadata": {},
   "source": [
    "__Ic) What are the parameters (fixed constants that the modeler chooses) of the model? What are\n",
    "the variables that change over time and/or change as a result of these parameters (sometimes\n",
    "called state variables)?__"
   ]
  },
  {
   "cell_type": "markdown",
   "metadata": {},
   "source": [
    "Examples of arameters would be the weights (set symetrically), thresholds, and number of neurons contained in the model. V<sub>i</sub> as either 1 or 0 would be a state of this model, which, by definition, changes over time as a result of the parameters. "
   ]
  },
  {
   "cell_type": "markdown",
   "metadata": {},
   "source": [
    "__Id) Identify one of the models simplifying assumptions – some known aspect of the real world\n",
    "that the model omits or simplifies.__"
   ]
  },
  {
   "cell_type": "markdown",
   "metadata": {},
   "source": [
    "One of the largest simplifying assumptions that this model makes is in the assumption that biological information sent to other neurons often lies in a short-time average of the firing rate, and because of this, the details of individual action potentials can be neglected. Hopfield then goes on to discuss how this omission allows you to define a smooth input output relationship, and state that parallel pathways carrying the same information allows us to extract a short-term average firing rate. "
   ]
  },
  {
   "cell_type": "markdown",
   "metadata": {},
   "source": [
    "__II) Write\n",
    "down at least two additional brief python or notebook tips / tricks, or GOTCHAs – beyond what is in\n",
    "the tutorial – to share with the class.__"
   ]
  },
  {
   "cell_type": "markdown",
   "metadata": {},
   "source": [
    "Tip #1: Specifically in VSCode, I found that integrating the extension to be able to view PDFs side by side with my jupyter notebook was really really useful. This way, I'm able to simultaneously view my code with the pdf of the assignment specification, and I'm not wasting time constantly switching between windows. Additionally, using VSCode's flexibility to set your own keyboard shortcuts for running a cell or switching to the next cell allows for a really seamless and personalized coding experience. \n",
    "Tip #2: On the mac, the shortcut of holding on the option key and then using your trackpad to place the mouse at multiple points along your code, and from there edit or rename multiple variables on different of code all at once is really useful. Sometimes I find that I've named a variable wrong, or I just have some formatting issues that are replicated on multiple lines of code, so this tip has made fixing these errors a lot faster. "
   ]
  }
 ],
 "metadata": {
  "language_info": {
   "name": "python"
  }
 },
 "nbformat": 4,
 "nbformat_minor": 2
}
