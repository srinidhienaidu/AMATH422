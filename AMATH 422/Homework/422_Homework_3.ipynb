{
 "cells": [
  {
   "cell_type": "code",
   "execution_count": 2,
   "metadata": {},
   "outputs": [],
   "source": [
    "import numpy as np\n",
    "import matplotlib.pyplot as plt\n",
    "import scipy.optimize as opt\n",
    "import scipy.linalg as la"
   ]
  },
  {
   "cell_type": "markdown",
   "metadata": {},
   "source": [
    "### Compute the matrix of elasticities for your projection matrix."
   ]
  },
  {
   "cell_type": "code",
   "execution_count": 3,
   "metadata": {},
   "outputs": [
    {
     "name": "stdout",
     "output_type": "stream",
     "text": [
      "[[0.     0.     0.     ... 0.24   0.24   0.24  ]\n",
      " [0.0722 0.     0.     ... 0.     0.     0.    ]\n",
      " [0.     1.     0.     ... 0.     0.     0.    ]\n",
      " ...\n",
      " [0.     0.     0.     ... 0.     0.     0.    ]\n",
      " [0.     0.     0.     ... 0.942  0.     0.    ]\n",
      " [0.     0.     0.     ... 0.     0.942  0.    ]]\n"
     ]
    }
   ],
   "source": [
    "A = 50  # Maximum age\n",
    "f = 0.24  # Fecundity for ages >= 3\n",
    "survival_to_age3 = 0.0722  # Survival to age 3\n",
    "p_adult = 0.942  # Survival for ages 3 to 49\n",
    "\n",
    "P = np.zeros((A + 1, A + 1))\n",
    "P[0, 3:] = f \n",
    "\n",
    "P[1, 0] = survival_to_age3 \n",
    "P[2, 1] = 1   \n",
    "P[3, 2] = 1  \n",
    "\n",
    "for a in range(3, A):\n",
    "    P[a + 1, a] = p_adult\n",
    "\n",
    "print(P)"
   ]
  },
  {
   "cell_type": "code",
   "execution_count": 4,
   "metadata": {},
   "outputs": [
    {
     "name": "stdout",
     "output_type": "stream",
     "text": [
      "Long-term population growth rate (λ): 0.9439\n"
     ]
    }
   ],
   "source": [
    "eigenvalues, eigenvectors = np.linalg.eig(P)\n",
    "\n",
    "lambda_long_term = max(eigenvalues.real)\n",
    "print(f\"Long-term population growth rate (λ): {lambda_long_term:.4f}\")"
   ]
  },
  {
   "cell_type": "code",
   "execution_count": 5,
   "metadata": {},
   "outputs": [],
   "source": [
    "l,v = la.eig(P)\n",
    "\n",
    "idx=np.argsort(np.abs(l))\n",
    "l_sorted=l[idx]  \n",
    "v_sorted=v[:,idx]   #rearrange eigenvectors in same order\n",
    "lambda_max= l_sorted[-1]\n",
    "v_max = v_sorted[:,-1]\n",
    "\n",
    "l,v_left = la.eig(np.transpose(P))\n",
    "\n",
    "idx=np.argsort(np.abs(l))\n",
    "l_sorted=l[idx]  \n",
    "v_left_sorted=v_left[:,idx]   #rearrange eigenvectors in same order\n",
    "v_left_max = v_left_sorted[:,-1]\n",
    "\n",
    "s = np.outer(v_left_max,v_max)/np.dot(v_left_max,v_max)\n",
    "e= s * P / lambda_max\n",
    "matrix_e = np.real(e)"
   ]
  },
  {
   "cell_type": "code",
   "execution_count": 6,
   "metadata": {},
   "outputs": [
    {
     "name": "stdout",
     "output_type": "stream",
     "text": [
      "Sensitivity Matrix\n",
      "[[0.03687976 0.002821   0.00298869 ... 0.00289309 0.0028873  0.00288151]\n",
      " [0.48213968 0.03687976 0.03907205 ... 0.03782224 0.03774646 0.03767083]\n",
      " [0.45508741 0.03481048 0.03687976 ... 0.03570008 0.03562855 0.03555717]\n",
      " ...\n",
      " [0.02807555 0.00214755 0.00227521 ... 0.00220243 0.00219802 0.00219362]\n",
      " [0.01873579 0.00143314 0.00151833 ... 0.00146976 0.00146682 0.00146388]\n",
      " [0.00937729 0.00071729 0.00075992 ... 0.00073562 0.00073414 0.00073267]]\n"
     ]
    }
   ],
   "source": [
    "print('Sensitivity Matrix')\n",
    "print(np.real(s))  #that real is just to nicely format the output here"
   ]
  },
  {
   "cell_type": "code",
   "execution_count": 7,
   "metadata": {},
   "outputs": [
    {
     "name": "stdout",
     "output_type": "stream",
     "text": [
      "Elasticities Matrix\n",
      "[[0.       0.       0.       ... 0.000736 0.000734 0.000733]\n",
      " [0.03688  0.       0.       ... 0.       0.       0.      ]\n",
      " [0.       0.03688  0.       ... 0.       0.       0.      ]\n",
      " ...\n",
      " [0.       0.       0.       ... 0.       0.       0.      ]\n",
      " [0.       0.       0.       ... 0.001467 0.       0.      ]\n",
      " [0.       0.       0.       ... 0.       0.000733 0.      ]]\n"
     ]
    }
   ],
   "source": [
    "print('Elasticities Matrix')\n",
    "\n",
    "np.set_printoptions(precision=6, suppress=True)\n",
    "print(matrix_e)"
   ]
  },
  {
   "cell_type": "markdown",
   "metadata": {},
   "source": [
    "1. Is the elasticity for fecundity values fa the same for all ages a? \n",
    "2. Is the elasticity for annual survival probabilities values pa the same for all ages a? \n",
    "3. State one possible implication for management plans."
   ]
  },
  {
   "cell_type": "markdown",
   "metadata": {},
   "source": [
    "fecundity stays the same from 0-3\n",
    "the surivval probabilities are the ones that are going down clearly \n",
    "first row is all the fecundities \n"
   ]
  },
  {
   "cell_type": "markdown",
   "metadata": {},
   "source": [
    "1. The fecundity values are not all the same for all ages a (above age 3, the lower-limit for reproductive age). This is because the number of owls in older age groups are fewer than in lower age groups, and a higher fecundity for a younger age has a much larger overal population affect than any assigned fecundity for a smaller population\n",
    "2. The elasticity for annual survival probabilities is essentially a measure of the relative contribution of that aged-animal on the overall composition of the growth rate– younger populations have a higher elasticity for the annual survival probailities because younger animals are more likeley to be alive and reproducing for a longer amount of time.\n",
    "3. One possible implication for management plans to increase population growth is through focusing on increasing survival probabilities for older populations. As long as they are able to survive, they will be able to contribute towards the population growth at almost the same relative contribution as a younger animal, and the increased surival probabilities over time will trickle down to result in larger younger populations. "
   ]
  },
  {
   "cell_type": "markdown",
   "metadata": {},
   "source": []
  }
 ],
 "metadata": {
  "kernelspec": {
   "display_name": "base",
   "language": "python",
   "name": "python3"
  },
  "language_info": {
   "codemirror_mode": {
    "name": "ipython",
    "version": 3
   },
   "file_extension": ".py",
   "mimetype": "text/x-python",
   "name": "python",
   "nbconvert_exporter": "python",
   "pygments_lexer": "ipython3",
   "version": "3.10.9"
  }
 },
 "nbformat": 4,
 "nbformat_minor": 2
}
