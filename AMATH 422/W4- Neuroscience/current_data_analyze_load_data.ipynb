{
 "cells": [
  {
   "cell_type": "markdown",
   "metadata": {},
   "source": [
    "## Analysis of current data"
   ]
  },
  {
   "cell_type": "code",
   "execution_count": 2,
   "metadata": {},
   "outputs": [],
   "source": [
    "import matplotlib.pylab as plt   # That gives plotting, and the next line makes plots appear inline in notebook\n",
    "%matplotlib inline  \n",
    "import numpy as np  # That gives numerical arrays and tools for manipulating them\n",
    "import scipy.optimize as opt\n",
    "import scipy.linalg as la\n",
    "import statistics as stat\n",
    "from scipy.optimize import fsolve\n"
   ]
  },
  {
   "cell_type": "markdown",
   "metadata": {
    "tags": []
   },
   "source": [
    "#### Load current data from a text file"
   ]
  },
  {
   "cell_type": "code",
   "execution_count": 3,
   "metadata": {},
   "outputs": [],
   "source": [
    "data = np.loadtxt('SequenceOfCurrentsDatamatrix.dat')"
   ]
  },
  {
   "cell_type": "code",
   "execution_count": 19,
   "metadata": {},
   "outputs": [
    {
     "name": "stdout",
     "output_type": "stream",
     "text": [
      "(100, 1000)\n"
     ]
    },
    {
     "data": {
      "text/plain": [
       "array([[ 12.,   0.,   0.,   3.,   0.,   3.,   0.,   0.,   0.,   6.],\n",
       "       [ 30.,  39.,  39.,  30.,  39.,  42.,  21.,  27.,  33.,  30.],\n",
       "       [ 69.,  54.,  60.,  60.,  66.,  72.,  60.,  69.,  72.,  57.],\n",
       "       [ 90., 108.,  87.,  96.,  81.,  72.,  99.,  81.,  84.,  96.],\n",
       "       [126., 129., 135., 117., 147., 111., 126., 123., 111., 153.],\n",
       "       [150., 153., 147., 138., 183., 135., 159., 156., 141., 135.],\n",
       "       [189., 180., 222., 207., 174., 174., 201., 216., 204., 171.],\n",
       "       [237., 210., 213., 171., 228., 225., 171., 231., 183., 216.],\n",
       "       [216., 282., 240., 243., 219., 234., 210., 252., 267., 231.],\n",
       "       [288., 258., 246., 294., 294., 285., 261., 264., 309., 234.]])"
      ]
     },
     "execution_count": 19,
     "metadata": {},
     "output_type": "execute_result"
    }
   ],
   "source": [
    "print(data.shape)\n",
    "data[0:10,0:10]\n",
    "\n",
    "# Rows = samples of current I across the membrane at different points in time (nA)\n",
    "# For each row, the probability for the ion channels to open is different"
   ]
  },
  {
   "cell_type": "code",
   "execution_count": null,
   "metadata": {},
   "outputs": [],
   "source": [
    "E_test = np.mean(data, axis = 1)\n",
    "var_test = np.var(data, axis = 1)\n",
    "p = data.shape[1]\n",
    "def func(E, N, i):\n",
    "    return -E * (E / N - i)"
   ]
  },
  {
   "cell_type": "code",
   "execution_count": 59,
   "metadata": {},
   "outputs": [
    {
     "name": "stdout",
     "output_type": "stream",
     "text": [
      "N :  1212.3789466875915\n",
      "i : 3.0348602748061935\n"
     ]
    }
   ],
   "source": [
    "N, i = opt.curve_fit(func, E_test, var_test)[0]\n",
    "print('N : ', N)\n",
    "print('i :', i)\n"
   ]
  }
 ],
 "metadata": {
  "kernelspec": {
   "display_name": "cse599n",
   "language": "python",
   "name": "python3"
  },
  "language_info": {
   "codemirror_mode": {
    "name": "ipython",
    "version": 3
   },
   "file_extension": ".py",
   "mimetype": "text/x-python",
   "name": "python",
   "nbconvert_exporter": "python",
   "pygments_lexer": "ipython3",
   "version": "3.8.19"
  }
 },
 "nbformat": 4,
 "nbformat_minor": 4
}
