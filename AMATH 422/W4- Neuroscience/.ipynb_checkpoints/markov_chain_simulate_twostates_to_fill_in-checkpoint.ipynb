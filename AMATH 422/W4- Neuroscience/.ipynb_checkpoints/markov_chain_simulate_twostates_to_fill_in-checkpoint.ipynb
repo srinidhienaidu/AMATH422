{
 "cells": [
  {
   "cell_type": "markdown",
   "metadata": {},
   "source": [
    "## Simulating a Markov Chain\n",
    "\n",
    "Here we will simulate the simplest possible (2-state) Markov chain"
   ]
  },
  {
   "cell_type": "code",
   "execution_count": null,
   "metadata": {},
   "outputs": [],
   "source": [
    "import matplotlib.pylab as plt   # That gives plotting, and the next line makes plots appear inline in notebook\n",
    "%matplotlib inline  \n",
    "import numpy as np  # That gives numerical arrays and tools for manipulating them\n",
    "import scipy.optimize as opt\n",
    "import scipy.linalg as la"
   ]
  },
  {
   "cell_type": "markdown",
   "metadata": {},
   "source": [
    "#### Initialize random number generator"
   ]
  },
  {
   "cell_type": "code",
   "execution_count": null,
   "metadata": {},
   "outputs": [],
   "source": [
    "rng = np.random.default_rng()"
   ]
  },
  {
   "cell_type": "markdown",
   "metadata": {},
   "source": [
    "#### Define transition matrix"
   ]
  },
  {
   "cell_type": "code",
   "execution_count": null,
   "metadata": {},
   "outputs": [],
   "source": [
    "A = np.array([[0.90, 0.07],\n",
    "             [0.10, 0.93]])"
   ]
  },
  {
   "cell_type": "markdown",
   "metadata": {},
   "source": [
    "#### Set up for simulating realization of the Markov Chain\n",
    "\n",
    "Define a list of states on this realization. states(k)=1 means in state 1 at timestep k, etc\n",
    " "
   ]
  },
  {
   "cell_type": "code",
   "execution_count": null,
   "metadata": {},
   "outputs": [],
   "source": [
    "#number of timesteps\n",
    "Tmax=200       \n",
    "\n",
    "#intialize array of states; need to be integers as will use as indices below\n",
    "states=np.zeros(Tmax,dtype=int)\n",
    "#set initial state\n",
    "states[0]=0        "
   ]
  },
  {
   "cell_type": "code",
   "execution_count": null,
   "metadata": {},
   "outputs": [],
   "source": [
    "for t in np.arange(Tmax-1):\n",
    "    r = rng.uniform(0,1,1)   #draw random variable (uniformly distributed in 0,1)\n",
    "\n",
    "    if r < ###FILL IN ###:    #%for transition FROM states[t] to state 0\n",
    "        ###FILL IN ###\n",
    "    else:\n",
    "        ###FILL IN ###"
   ]
  },
  {
   "cell_type": "code",
   "execution_count": null,
   "metadata": {},
   "outputs": [],
   "source": [
    "plt.plot(states)\n",
    "plt.xlabel('state')\n",
    "plt.ylabel('timestep')\n"
   ]
  },
  {
   "cell_type": "code",
   "execution_count": null,
   "metadata": {},
   "outputs": [],
   "source": []
  }
 ],
 "metadata": {
  "kernelspec": {
   "display_name": "Python 3 (ipykernel)",
   "language": "python",
   "name": "python3"
  },
  "language_info": {
   "codemirror_mode": {
    "name": "ipython",
    "version": 3
   },
   "file_extension": ".py",
   "mimetype": "text/x-python",
   "name": "python",
   "nbconvert_exporter": "python",
   "pygments_lexer": "ipython3",
   "version": "3.8.11"
  }
 },
 "nbformat": 4,
 "nbformat_minor": 4
}
