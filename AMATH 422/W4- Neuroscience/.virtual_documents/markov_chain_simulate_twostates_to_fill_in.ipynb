


import matplotlib.pylab as plt   # That gives plotting, and the next line makes plots appear inline in notebook
%matplotlib inline  
import numpy as np  # That gives numerical arrays and tools for manipulating them
import scipy.optimize as opt
import scipy.linalg as la





rng = np.random.default_rng()





A = np.array([[0.90, 0.07],
             [0.10, 0.93]])





#number of timesteps
Tmax=200       

#intialize array of states; need to be integers as will use as indices below
states=np.zeros(Tmax,dtype=int)
#set initial state
states[0]=0        


for t in np.arange(Tmax-1):
    r = rng.uniform(0,1,1)   #draw random variable (uniformly distributed in 0,1)

    if r < ###FILL IN ###:    #%for transition FROM states[t] to state 0
        ###FILL IN ###
    else:
        ###FILL IN ###


plt.plot(states)
plt.xlabel('state')
plt.ylabel('timestep')




