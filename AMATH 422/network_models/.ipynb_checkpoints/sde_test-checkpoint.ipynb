{
 "cells": [
  {
   "cell_type": "markdown",
   "metadata": {
    "tags": []
   },
   "source": [
    "## Simulating the simplest stochastic differential equation (SDE)\n"
   ]
  },
  {
   "cell_type": "code",
   "execution_count": 7,
   "metadata": {},
   "outputs": [],
   "source": [
    "import matplotlib.pylab as plt   # That gives plotting, and the next line makes plots appear inline in notebook\n",
    "%matplotlib inline  \n",
    "import numpy as np  # That gives numerical arrays and tools for manipulating them\n",
    "import scipy.optimize as opt\n",
    "import scipy.linalg as la"
   ]
  },
  {
   "cell_type": "markdown",
   "metadata": {},
   "source": [
    "#### Initialize random number generator"
   ]
  },
  {
   "cell_type": "code",
   "execution_count": 9,
   "metadata": {},
   "outputs": [],
   "source": [
    "rng = np.random.default_rng()"
   ]
  },
  {
   "cell_type": "markdown",
   "metadata": {},
   "source": [
    "#### Basic simulation setup parameters (leave these fixed)"
   ]
  },
  {
   "cell_type": "code",
   "execution_count": 13,
   "metadata": {},
   "outputs": [],
   "source": [
    "Ntrials=1000\n",
    "Tmax=1  #The total simulation time"
   ]
  },
  {
   "cell_type": "markdown",
   "metadata": {},
   "source": [
    "#### Choose a timestep and alpha parameter for simulation code:\n",
    "Experiment with these!"
   ]
  },
  {
   "cell_type": "code",
   "execution_count": 23,
   "metadata": {},
   "outputs": [],
   "source": [
    "## CHOOSE A STEP SIZE ##\n",
    "h=  ##TO FILL IN##  \n",
    "\n",
    "numsteps=round(Tmax/h)\n",
    "xarray=np.zeros((Ntrials,numsteps))\n",
    "\n",
    "## CHOOSE A VALUE OF PARAMETER ALPHA IN TIMESTEPPER CODE ##\n",
    "alpha= ##TO FILL IN##"
   ]
  },
  {
   "cell_type": "markdown",
   "metadata": {},
   "source": [
    "#### RUN SIMULATION AND COLLECT DISTRIBUTION OF VALUES OF X AT TIME Tmax|\n"
   ]
  },
  {
   "cell_type": "code",
   "execution_count": 26,
   "metadata": {},
   "outputs": [
    {
     "name": "stderr",
     "output_type": "stream",
     "text": [
      "/var/folders/r6/cd8w7d811n9bbtq1nqddgy9m0000gn/T/ipykernel_29543/3133080441.py:5: DeprecationWarning: Conversion of an array with ndim > 0 to a scalar is deprecated, and will error in future. Ensure you extract a single element from your array before performing this operation. (Deprecated NumPy 1.25.)\n",
      "  xarray[N,t+1] = xarray[N,t] + r*h**alpha\n"
     ]
    },
    {
     "data": {
      "text/plain": [
       "Text(0.5, 0, 'X(T_max)')"
      ]
     },
     "execution_count": 26,
     "metadata": {},
     "output_type": "execute_result"
    },
    {
     "data": {
      "image/png": "[encoded data removed]",
      "text/plain": [
       "<Figure size 640x480 with 1 Axes>"
      ]
     },
     "metadata": {},
     "output_type": "display_data"
    }
   ],
   "source": [
    "\n",
    "for N in range(Ntrials):\n",
    "    for t in range(numsteps-1):\n",
    "        r = rng.standard_normal(1)  #draw normal variable (standard -- mean,var are 0,1)\n",
    "      \n",
    "        xarray[N,t+1] = xarray[N,t] + r*h**alpha\n",
    "\n",
    "plt.hist(xarray[:,numsteps-1],20);\n",
    "plt.title(\"Distribution of X(T_max)\")\n",
    "plt.ylabel(\"Proba(X(T_max))\")\n",
    "plt.xlabel(\"X(T_max)\")\n",
    "\n"
   ]
  },
  {
   "cell_type": "code",
   "execution_count": null,
   "metadata": {},
   "outputs": [],
   "source": []
  }
 ],
 "metadata": {
  "kernelspec": {
   "display_name": "Python 3 (ipykernel)",
   "language": "python",
   "name": "python3"
  },
  "language_info": {
   "codemirror_mode": {
    "name": "ipython",
    "version": 3
   },
   "file_extension": ".py",
   "mimetype": "text/x-python",
   "name": "python",
   "nbconvert_exporter": "python",
   "pygments_lexer": "ipython3",
   "version": "3.12.4"
  }
 },
 "nbformat": 4,
 "nbformat_minor": 4
}
