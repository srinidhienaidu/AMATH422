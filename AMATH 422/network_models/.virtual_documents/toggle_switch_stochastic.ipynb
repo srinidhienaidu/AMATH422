import matplotlib.pylab as plt   # That gives plotting, and the next line makes plots appear inline in notebook
%matplotlib inline  
import numpy as np  # That gives numerical arrays and tools for manipulating them

import scipy.optimize as opt
import scipy.linalg as la
import scipy.integrate as int



 def toggle_odefun(t,x,a,b):
    x1=x[0] 
    x2=x[1]
    
    dx1dt=-x1 + a/(1+x2**b)
    dx2dt=-x2 + a/(1+x1**b)

    
    return np.array([dx1dt,dx2dt])









a=2
b=4





t=0   #MUST define a value of time for calling ode function above, even if it is not used in defining the ODE 

x1min=0
x1max=a*1.5
numptsx1=12
x1list=np.linspace(x1min,x1max,numptsx1)

x2min=0
x2max=a*1.5
numptsx2=12
x2list=np.linspace(x2min,x2max,numptsx2)






x1array,x2array = np.meshgrid(x1list,x2list)
dx1dt_array=np.zeros(x1array.shape)
dx2dt_array=np.zeros(x1array.shape)






for i in np.arange(numptsx1):
    for j in np.arange(numptsx2):
        
        #here, F is an array of velocities in x1 and x2 directions    
        F=toggle_odefun(t,[x1array[i,j],x2array[i,j]],a,b)

        #We fill in these two matrices with the corresponding velocities
        dx1dt_array[i,j]=F[0]
        dx2dt_array[i,j]=F[1]

    





x1list_fine=np.linspace(x1min,x1max,100)
x2list_fine=np.linspace(x2min,x2max,100)


x2_nullcline_list=a/(1+x1list_fine**b) ;
x1_nullcline_list=a/(1+x2list_fine**b) ;


plt.figure(1)
plt.plot(x1list_fine,x2_nullcline_list)
plt.plot(x1_nullcline_list,x2list_fine)
        
plt.quiver(x1array,x2array,dx1dt_array,dx2dt_array) 








#specify our initial condition
x0=np.array([1,2])

#specify trange, a time range for simulation: two element array
tstart=0
tend=10
trange=np.array([tstart,tend])

#specify tlist,  a list of time points at which want to return the solution
numt=100
tlist=np.linspace(tstart,tend,numt)

sol=int.solve_ivp(toggle_odefun, trange, x0, t_eval=tlist,args=(a,b))

#Plot the trajectory 
plt.plot(sol.y[0,:],sol.y[1,:])

#Add an x at initial condition
plt.plot(sol.y[0,0],sol.y[1,0],'x',markersize=12)


#and add quiver, nullclines
plt.plot(x1list_fine,x2_nullcline_list)
plt.plot(x1_nullcline_list,x2list_fine)
plt.quiver(x1array,x2array,dx1dt_array,dx2dt_array) 






eps=.4


# number of timesteps of size h I need to take to get to Tmax
h=0.01   # timestep
Tmax=5000
numsteps=round(Tmax/h)

t_list=h*np.arange(numsteps)





x_array=np.zeros((2,numsteps))





x_array[:,0]=x0








rng = np.random.default_rng()


for t in range(numsteps-1):
    r = rng.standard_normal(2)  #draw normal variable (standard -- mean,var are 0,1)
    x_array[:,t+1] = x_array[:,t] + h*toggle_odefun(t,x_array[:,t],a,b) + eps*np.sqrt(h)*r




plt.plot(t_list,x_array[0,:])
plt.plot(t_list,x_array[1,:])


plt.plot(x_array[0,:],x_array[1,:])



