


import matplotlib.pylab as plt   # That gives plotting, and the next line makes plots appear inline in notebook
%matplotlib inline  
import numpy as np  # That gives numerical arrays and tools for manipulating them
import scipy.optimize as opt
import scipy.linalg as la





rng = np.random.default_rng()





Ntrials=1000
Tmax=1  #The total simulation time





## CHOOSE A STEP SIZE ##
h=  ##TO FILL IN##  

numsteps=round(Tmax/h)
xarray=np.zeros((Ntrials,numsteps))

## CHOOSE A VALUE OF PARAMETER ALPHA IN TIMESTEPPER CODE ##
alpha= ##TO FILL IN##






for N in range(Ntrials):
    for t in range(numsteps-1):
        r = rng.standard_normal(1)  #draw normal variable (standard -- mean,var are 0,1)
      
        xarray[N,t+1] = xarray[N,t] + r*h**alpha

plt.hist(xarray[:,numsteps-1],20);
plt.title("Distribution of X(T_max)")
plt.ylabel("Proba(X(T_max))")
plt.xlabel("X(T_max)")





