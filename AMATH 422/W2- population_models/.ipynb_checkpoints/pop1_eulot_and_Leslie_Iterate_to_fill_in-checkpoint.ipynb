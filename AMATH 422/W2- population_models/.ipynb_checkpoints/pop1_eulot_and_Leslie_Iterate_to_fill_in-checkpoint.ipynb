{
 "cells": [
  {
   "cell_type": "markdown",
   "metadata": {},
   "source": [
    "### Scipy"
   ]
  },
  {
   "cell_type": "markdown",
   "metadata": {},
   "source": [
    "We'll import our usual plotting and numpy packages, and also one more new one, scipy.  Scipy has many subpackages with very useful functionality.  Highlights include:\n",
    "\n",
    "\n",
    "<li>Integration and ODEs (scipy.integrate)\n",
    "<li>Interpolation (scipy.interpolate)\n",
    "<li>Input and output (scipy.io)\n",
    "<li><b>Linear algebra</b> (scipy.linalg)\n",
    "<li>Optimization and root finding (scipy.optimize)\n",
    "<li><b>Signal processing</b> (scipy.signal)\n",
    "<li>Sparse matrices (scipy.sparse)\n",
    "<li><b>Statistical functions</b> (scipy.stats)\n",
    "\n",
    "\n",
    "The common practice is to import these subpackages separately, with their own names.  We'll do that for optimize and linalg here. "
   ]
  },
  {
   "cell_type": "code",
   "execution_count": 14,
   "metadata": {
    "tags": []
   },
   "outputs": [],
   "source": [
    "import matplotlib.pylab as plt   # That gives plotting, and the next line makes plots appear inline in notebook\n",
    "%matplotlib inline  \n",
    "import numpy as np  # That gives numerical arrays and tools for manipulating them\n",
    "\n",
    "import scipy.optimize as opt\n",
    "import scipy.linalg as la"
   ]
  },
  {
   "cell_type": "markdown",
   "metadata": {
    "tags": []
   },
   "source": [
    "### Root finding.\n",
    "We'll use the brentq method scipy.optimize to find a function's roots:  that is, where it crosses zero.  This is an enhanced version of the most basic 'bisection' approach (adding interpolation), and likewise requires specifying an intial bracketing interval in which the root may lie.  \n",
    "\n",
    "There are many other root finding methods in scipy:  see documentation for scipy.optimize (https://docs.scipy.org/doc/scipy/reference/optimize.html)"
   ]
  },
  {
   "cell_type": "markdown",
   "metadata": {},
   "source": [
    "Let's test this out with a function with roots -1 and +1 "
   ]
  },
  {
   "cell_type": "code",
   "execution_count": 15,
   "metadata": {
    "tags": []
   },
   "outputs": [],
   "source": [
    "def f(x):\n",
    "    return (x**2 - 1)"
   ]
  },
  {
   "cell_type": "code",
   "execution_count": 16,
   "metadata": {
    "tags": []
   },
   "outputs": [
    {
     "data": {
      "text/plain": [
       "1.0"
      ]
     },
     "execution_count": 16,
     "metadata": {},
     "output_type": "execute_result"
    }
   ],
   "source": [
    "#search for root between left_bracket and right_bracket\n",
    "\n",
    "###NOTE! Need to have function value taking opposite signs for this algorithm to work###\n",
    "left_bracket=0\n",
    "right_bracket=2\n",
    "\n",
    "opt.brentq(f,left_bracket,right_bracket)"
   ]
  },
  {
   "cell_type": "markdown",
   "metadata": {},
   "source": [
    "## The Euler Lotka Formula"
   ]
  },
  {
   "cell_type": "markdown",
   "metadata": {},
   "source": [
    "Let's define a function that computes Euler-Lotka sum $\\sum\\limits_{a=0}^n {\\lambda ^{-(a+1)}I_a f_a -1}$ where $I_a$ and $f_a$ are two 1-D arrays and $\\lambda$ is a scalar."
   ]
  },
  {
   "cell_type": "code",
   "execution_count": 17,
   "metadata": {
    "tags": []
   },
   "outputs": [],
   "source": [
    "def eulot_func(lam,Ia_arr,fa_arr):\n",
    "        \"\"\"compute the Euler-Lotka sum, taking as arguments a scalar and two 1-D numpy arrays\"\"\"\n",
    "        length_of_array=Ia_arr.size\n",
    "        age_arr=np.arange(0,length_of_array)\n",
    "        temp_arr=lam**(-(age_arr+1))*Ia_arr*fa_arr \n",
    "        return sum(temp_arr) -1 \n",
    "\n"
   ]
  },
  {
   "cell_type": "markdown",
   "metadata": {},
   "source": [
    "Consider a case with:\n",
    "* A=2\n",
    "* p0=0.5\n",
    "* p1=0.25\n",
    "* f0=0\n",
    "* f1=1\n",
    "* f2=5"
   ]
  },
  {
   "cell_type": "code",
   "execution_count": 22,
   "metadata": {
    "tags": []
   },
   "outputs": [],
   "source": [
    "Ia_arr=np.array([0, 0.5, 0.5*0.25])\n",
    "fa_arr=np.array([0, 1, 5])\n",
    "\n",
    "\n",
    "# why did we choose 2 here?\n",
    "# When Lambda = 1, the formula simpliifies, and we see that fa/ia should be one.\n",
    "# If we have a funcundity rate of 0, and nobody dies, then the rate would be constant! \n"
   ]
  },
  {
   "cell_type": "markdown",
   "metadata": {},
   "source": [
    "Plot this function, as a function of lambda"
   ]
  },
  {
   "cell_type": "code",
   "execution_count": 23,
   "metadata": {
    "collapsed": true,
    "jupyter": {
     "outputs_hidden": true
    },
    "tags": []
   },
   "outputs": [],
   "source": [
    "lambda_min=.5\n",
    "lambda_max=5\n",
    "\n",
    "#Range of lambda values we'll plot over\n",
    "lambda_arr=np.linspace(lambda_min,lambda_max,100) \n",
    "\n",
    "G_arr=np.zeros(lambda_arr.size)\n",
    "\n",
    "iter_arr=np.arange(lambda_arr.size)\n",
    "\n",
    "for j in iter_arr:\n",
    "    G_arr[j]=eulot_func(lambda_arr[j],Ia_arr,fa_arr) "
   ]
  },
  {
   "cell_type": "code",
   "execution_count": 24,
   "metadata": {
    "collapsed": true,
    "jupyter": {
     "outputs_hidden": true
    },
    "tags": []
   },
   "outputs": [
    {
     "data": {
      "text/plain": [
       "Text(0, 0.5, 'G')"
      ]
     },
     "execution_count": 24,
     "metadata": {},
     "output_type": "execute_result"
    },
    {
     "data": {
      "image/png": "[encoded data removed]",
      "text/plain": [
       "<Figure size 640x480 with 1 Axes>"
      ]
     },
     "metadata": {},
     "output_type": "display_data"
    }
   ],
   "source": [
    "plt.plot(lambda_arr,G_arr)\n",
    "plt.xlabel('lambda')\n",
    "plt.ylabel('G')"
   ]
  },
  {
   "cell_type": "code",
   "execution_count": 25,
   "metadata": {
    "collapsed": true,
    "jupyter": {
     "outputs_hidden": true
    },
    "tags": []
   },
   "outputs": [
    {
     "data": {
      "text/plain": [
       "1.0472757407711641"
      ]
     },
     "execution_count": 25,
     "metadata": {},
     "output_type": "execute_result"
    }
   ],
   "source": [
    "#search for root between left_bracket and right_bracket\n",
    "left_bracket=1\n",
    "right_bracket=2\n",
    "\n",
    "#The first argument of eulot_func is variable we want to solve with respect to.  \n",
    "#The next arguments are parameters, which we pass like this:\n",
    "args=(Ia_arr,fa_arr)\n",
    "\n",
    "opt.brentq(eulot_func,left_bracket,right_bracket,args)"
   ]
  },
  {
   "cell_type": "markdown",
   "metadata": {},
   "source": [
    "**BREAKOUT EXERCISE:**  \n",
    "* Modify the values of $p_j$ (and hence $I_j$) and/or $f_j$ so that the root changes to 1.0.  Explain why this worked, intuitively.\n",
    "* Then, try again, this time to get this to give a root of 0, 0.5, or 2.0."
   ]
  },
  {
   "cell_type": "markdown",
   "metadata": {},
   "source": [
    "## The Leslie Matrix and matrix model iteration"
   ]
  },
  {
   "cell_type": "markdown",
   "metadata": {},
   "source": [
    "Now define the equivalent Leslie Matrix, returning to our first case of:\n",
    "* A=2\n",
    "* p0=0.5, p1=0.25\n",
    "* f0=0, f1=1, f2=5"
   ]
  },
  {
   "cell_type": "code",
   "execution_count": 27,
   "metadata": {
    "collapsed": true,
    "jupyter": {
     "outputs_hidden": true
    },
    "tags": []
   },
   "outputs": [
    {
     "name": "stdout",
     "output_type": "stream",
     "text": [
      "[[0.   1.   5.  ]\n",
      " [0.5  0.   0.  ]\n",
      " [0.   0.25 0.  ]\n",
      " [0.   0.25 0.  ]]\n"
     ]
    }
   ],
   "source": [
    "n_zero=np.array([20,240,60])\n",
    "\n",
    "A_mat=np.array([[0, 1, 5], [0.5, 0, 0], [0, 0.25, 0]])\n",
    "print(A_mat)"
   ]
  },
  {
   "cell_type": "code",
   "execution_count": 15,
   "metadata": {
    "tags": []
   },
   "outputs": [
    {
     "name": "stdout",
     "output_type": "stream",
     "text": [
      "[ 20. 240.  60.]\n",
      "[[0.   1.   5.  ]\n",
      " [0.5  0.   0.  ]\n",
      " [0.   0.25 0.  ]]\n"
     ]
    },
    {
     "data": {
      "text/plain": [
       "array([540.,  10.,  60.])"
      ]
     },
     "execution_count": 15,
     "metadata": {},
     "output_type": "execute_result"
    }
   ],
   "source": [
    "Tmax=200\n",
    "\n",
    "n_vs_t=np.zeros([3,Tmax])\n",
    "\n",
    "n_vs_t[:,0]=n_zero \n",
    "\n",
    "\n",
    "#Print out our quanties so far, check that they make sense\n",
    "print(n_vs_t[:,0])\n",
    "print(A_mat)\n",
    "np.dot(A_mat,n_vs_t[:,0])"
   ]
  },
  {
   "cell_type": "code",
   "execution_count": 16,
   "metadata": {
    "tags": []
   },
   "outputs": [],
   "source": [
    "iter_arr=np.arange(Tmax-1)\n",
    "\n",
    "for t in iter_arr:\n",
    "    n_vs_t[:,t+1]=np.dot(A_mat,n_vs_t[:,t])"
   ]
  },
  {
   "cell_type": "code",
   "execution_count": 17,
   "metadata": {
    "tags": []
   },
   "outputs": [
    {
     "name": "stdout",
     "output_type": "stream",
     "text": [
      "(3, 200)\n",
      "(199,)\n"
     ]
    }
   ],
   "source": [
    "print(n_vs_t.shape)\n",
    "print(iter_arr.shape)"
   ]
  },
  {
   "cell_type": "code",
   "execution_count": 18,
   "metadata": {
    "tags": []
   },
   "outputs": [
    {
     "data": {
      "text/plain": [
       "<matplotlib.legend.Legend at 0x7fa878f43250>"
      ]
     },
     "execution_count": 18,
     "metadata": {},
     "output_type": "execute_result"
    },
    {
     "data": {
      "image/png": "[encoded data removed]",
      "text/plain": [
       "<Figure size 640x480 with 1 Axes>"
      ]
     },
     "metadata": {},
     "output_type": "display_data"
    }
   ],
   "source": [
    "generation_arr=np.arange(Tmax)\n",
    "plt.plot(generation_arr,n_vs_t[0,:],label=\"pop 0\")\n",
    "plt.plot(generation_arr,n_vs_t[1,:],label=\"pop 1\")\n",
    "plt.plot(generation_arr,n_vs_t[2,:],label=\"pop 2\")\n",
    "plt.xlabel('n')\n",
    "plt.ylabel('t')\n",
    "\n",
    "plt.legend()"
   ]
  },
  {
   "cell_type": "code",
   "execution_count": 14,
   "metadata": {
    "tags": []
   },
   "outputs": [
    {
     "data": {
      "text/plain": [
       "<matplotlib.legend.Legend at 0x7fd6f8ca4f70>"
      ]
     },
     "execution_count": 14,
     "metadata": {},
     "output_type": "execute_result"
    },
    {
     "data": {
      "image/png": "[encoded data removed]",
      "text/plain": [
       "<Figure size 432x288 with 1 Axes>"
      ]
     },
     "metadata": {
      "needs_background": "light"
     },
     "output_type": "display_data"
    }
   ],
   "source": [
    "plt.plot(generation_arr,np.log(n_vs_t[0,:]),label=\"pop 0\")\n",
    "plt.plot(generation_arr,np.log(n_vs_t[1,:]),label=\"pop 1\")\n",
    "plt.plot(generation_arr,np.log(n_vs_t[2,:]),label=\"pop 2\")\n",
    "plt.xlabel('t')\n",
    "plt.ylabel('log of n')\n",
    "plt.legend()"
   ]
  },
  {
   "cell_type": "code",
   "execution_count": 15,
   "metadata": {
    "tags": []
   },
   "outputs": [
    {
     "name": "stdout",
     "output_type": "stream",
     "text": [
      "Help on function polyfit in module numpy:\n",
      "\n",
      "polyfit(x, y, deg, rcond=None, full=False, w=None, cov=False)\n",
      "    Least squares polynomial fit.\n",
      "    \n",
      "    .. note::\n",
      "       This forms part of the old polynomial API. Since version 1.4, the\n",
      "       new polynomial API defined in `numpy.polynomial` is preferred.\n",
      "       A summary of the differences can be found in the\n",
      "       :doc:`transition guide </reference/routines.polynomials>`.\n",
      "    \n",
      "    Fit a polynomial ``p(x) = p[0] * x**deg + ... + p[deg]`` of degree `deg`\n",
      "    to points `(x, y)`. Returns a vector of coefficients `p` that minimises\n",
      "    the squared error in the order `deg`, `deg-1`, ... `0`.\n",
      "    \n",
      "    The `Polynomial.fit <numpy.polynomial.polynomial.Polynomial.fit>` class\n",
      "    method is recommended for new code as it is more stable numerically. See\n",
      "    the documentation of the method for more information.\n",
      "    \n",
      "    Parameters\n",
      "    ----------\n",
      "    x : array_like, shape (M,)\n",
      "        x-coordinates of the M sample points ``(x[i], y[i])``.\n",
      "    y : array_like, shape (M,) or (M, K)\n",
      "        y-coordinates of the sample points. Several data sets of sample\n",
      "        points sharing the same x-coordinates can be fitted at once by\n",
      "        passing in a 2D-array that contains one dataset per column.\n",
      "    deg : int\n",
      "        Degree of the fitting polynomial\n",
      "    rcond : float, optional\n",
      "        Relative condition number of the fit. Singular values smaller than\n",
      "        this relative to the largest singular value will be ignored. The\n",
      "        default value is len(x)*eps, where eps is the relative precision of\n",
      "        the float type, about 2e-16 in most cases.\n",
      "    full : bool, optional\n",
      "        Switch determining nature of return value. When it is False (the\n",
      "        default) just the coefficients are returned, when True diagnostic\n",
      "        information from the singular value decomposition is also returned.\n",
      "    w : array_like, shape (M,), optional\n",
      "        Weights to apply to the y-coordinates of the sample points. For\n",
      "        gaussian uncertainties, use 1/sigma (not 1/sigma**2).\n",
      "    cov : bool or str, optional\n",
      "        If given and not `False`, return not just the estimate but also its\n",
      "        covariance matrix. By default, the covariance are scaled by\n",
      "        chi2/dof, where dof = M - (deg + 1), i.e., the weights are presumed \n",
      "        to be unreliable except in a relative sense and everything is scaled \n",
      "        such that the reduced chi2 is unity. This scaling is omitted if \n",
      "        ``cov='unscaled'``, as is relevant for the case that the weights are \n",
      "        1/sigma**2, with sigma known to be a reliable estimate of the \n",
      "        uncertainty.\n",
      "    \n",
      "    Returns\n",
      "    -------\n",
      "    p : ndarray, shape (deg + 1,) or (deg + 1, K)\n",
      "        Polynomial coefficients, highest power first.  If `y` was 2-D, the\n",
      "        coefficients for `k`-th data set are in ``p[:,k]``.\n",
      "    \n",
      "    residuals, rank, singular_values, rcond\n",
      "        Present only if `full` = True.  Residuals is sum of squared residuals\n",
      "        of the least-squares fit, the effective rank of the scaled Vandermonde\n",
      "        coefficient matrix, its singular values, and the specified value of\n",
      "        `rcond`. For more details, see `linalg.lstsq`.\n",
      "    \n",
      "    V : ndarray, shape (M,M) or (M,M,K)\n",
      "        Present only if `full` = False and `cov`=True.  The covariance\n",
      "        matrix of the polynomial coefficient estimates.  The diagonal of\n",
      "        this matrix are the variance estimates for each coefficient.  If y\n",
      "        is a 2-D array, then the covariance matrix for the `k`-th data set\n",
      "        are in ``V[:,:,k]``\n",
      "    \n",
      "    \n",
      "    Warns\n",
      "    -----\n",
      "    RankWarning\n",
      "        The rank of the coefficient matrix in the least-squares fit is\n",
      "        deficient. The warning is only raised if `full` = False.\n",
      "    \n",
      "        The warnings can be turned off by\n",
      "    \n",
      "        >>> import warnings\n",
      "        >>> warnings.simplefilter('ignore', np.RankWarning)\n",
      "    \n",
      "    See Also\n",
      "    --------\n",
      "    polyval : Compute polynomial values.\n",
      "    linalg.lstsq : Computes a least-squares fit.\n",
      "    scipy.interpolate.UnivariateSpline : Computes spline fits.\n",
      "    \n",
      "    Notes\n",
      "    -----\n",
      "    The solution minimizes the squared error\n",
      "    \n",
      "    .. math ::\n",
      "        E = \\sum_{j=0}^k |p(x_j) - y_j|^2\n",
      "    \n",
      "    in the equations::\n",
      "    \n",
      "        x[0]**n * p[0] + ... + x[0] * p[n-1] + p[n] = y[0]\n",
      "        x[1]**n * p[0] + ... + x[1] * p[n-1] + p[n] = y[1]\n",
      "        ...\n",
      "        x[k]**n * p[0] + ... + x[k] * p[n-1] + p[n] = y[k]\n",
      "    \n",
      "    The coefficient matrix of the coefficients `p` is a Vandermonde matrix.\n",
      "    \n",
      "    `polyfit` issues a `RankWarning` when the least-squares fit is badly\n",
      "    conditioned. This implies that the best fit is not well-defined due\n",
      "    to numerical error. The results may be improved by lowering the polynomial\n",
      "    degree or by replacing `x` by `x` - `x`.mean(). The `rcond` parameter\n",
      "    can also be set to a value smaller than its default, but the resulting\n",
      "    fit may be spurious: including contributions from the small singular\n",
      "    values can add numerical noise to the result.\n",
      "    \n",
      "    Note that fitting polynomial coefficients is inherently badly conditioned\n",
      "    when the degree of the polynomial is large or the interval of sample points\n",
      "    is badly centered. The quality of the fit should always be checked in these\n",
      "    cases. When polynomial fits are not satisfactory, splines may be a good\n",
      "    alternative.\n",
      "    \n",
      "    References\n",
      "    ----------\n",
      "    .. [1] Wikipedia, \"Curve fitting\",\n",
      "           https://en.wikipedia.org/wiki/Curve_fitting\n",
      "    .. [2] Wikipedia, \"Polynomial interpolation\",\n",
      "           https://en.wikipedia.org/wiki/Polynomial_interpolation\n",
      "    \n",
      "    Examples\n",
      "    --------\n",
      "    >>> import warnings\n",
      "    >>> x = np.array([0.0, 1.0, 2.0, 3.0,  4.0,  5.0])\n",
      "    >>> y = np.array([0.0, 0.8, 0.9, 0.1, -0.8, -1.0])\n",
      "    >>> z = np.polyfit(x, y, 3)\n",
      "    >>> z\n",
      "    array([ 0.08703704, -0.81349206,  1.69312169, -0.03968254]) # may vary\n",
      "    \n",
      "    It is convenient to use `poly1d` objects for dealing with polynomials:\n",
      "    \n",
      "    >>> p = np.poly1d(z)\n",
      "    >>> p(0.5)\n",
      "    0.6143849206349179 # may vary\n",
      "    >>> p(3.5)\n",
      "    -0.34732142857143039 # may vary\n",
      "    >>> p(10)\n",
      "    22.579365079365115 # may vary\n",
      "    \n",
      "    High-order polynomials may oscillate wildly:\n",
      "    \n",
      "    >>> with warnings.catch_warnings():\n",
      "    ...     warnings.simplefilter('ignore', np.RankWarning)\n",
      "    ...     p30 = np.poly1d(np.polyfit(x, y, 30))\n",
      "    ...\n",
      "    >>> p30(4)\n",
      "    -0.80000000000000204 # may vary\n",
      "    >>> p30(5)\n",
      "    -0.99999999999999445 # may vary\n",
      "    >>> p30(4.5)\n",
      "    -0.10547061179440398 # may vary\n",
      "    \n",
      "    Illustration:\n",
      "    \n",
      "    >>> import matplotlib.pyplot as plt\n",
      "    >>> xp = np.linspace(-2, 6, 100)\n",
      "    >>> _ = plt.plot(x, y, '.', xp, p(xp), '-', xp, p30(xp), '--')\n",
      "    >>> plt.ylim(-2,2)\n",
      "    (-2, 2)\n",
      "    >>> plt.show()\n",
      "\n"
     ]
    }
   ],
   "source": [
    "help(np.polyfit)"
   ]
  },
  {
   "cell_type": "code",
   "execution_count": 16,
   "metadata": {
    "tags": []
   },
   "outputs": [],
   "source": [
    "p=np.polyfit(generation_arr,np.log(n_vs_t[0,:]),1)\n",
    "lambda_estimate=np.exp(p[0])"
   ]
  },
  {
   "cell_type": "code",
   "execution_count": 17,
   "metadata": {
    "collapsed": true,
    "jupyter": {
     "outputs_hidden": true
    },
    "tags": []
   },
   "outputs": [
    {
     "name": "stdout",
     "output_type": "stream",
     "text": [
      "[0.047 5.712]\n",
      "1.0476748940339515\n"
     ]
    }
   ],
   "source": [
    "np.set_printoptions(precision=3, suppress=True)\n",
    "print(p)\n",
    "print(lambda_estimate)"
   ]
  },
  {
   "cell_type": "markdown",
   "metadata": {},
   "source": [
    "Redo, cutting off the first squiggles"
   ]
  },
  {
   "cell_type": "code",
   "execution_count": 18,
   "metadata": {
    "collapsed": true,
    "jupyter": {
     "outputs_hidden": true
    },
    "tags": []
   },
   "outputs": [
    {
     "name": "stdout",
     "output_type": "stream",
     "text": [
      "[0.046 5.762]\n",
      "1.04727571605906\n"
     ]
    }
   ],
   "source": [
    "generation_arr_after_squiggles=np.arange(25,Tmax)\n",
    "\n",
    "p=np.polyfit(generation_arr_after_squiggles,np.log(n_vs_t[0,generation_arr_after_squiggles]),1)\n",
    "lambda_estimate=np.exp(p[0])\n",
    "\n",
    "print(p)\n",
    "print(lambda_estimate)"
   ]
  },
  {
   "cell_type": "markdown",
   "metadata": {},
   "source": [
    "Note match to what we found from the Euler-Lotka formula!"
   ]
  },
  {
   "cell_type": "markdown",
   "metadata": {},
   "source": [
    "**BREAKOUT EXERCISE:**  \n",
    "* Modify the values of $p_j$ (and hence $I_j$) and/or $f_j$ as in one of the cases for the Euler Lotka formula above, where you got a root of (1, 0.5, or 2).\n",
    "* Modify the corresponding A matrix,  run the matrix iteration again, and check that you got a growth rate to match."
   ]
  },
  {
   "cell_type": "markdown",
   "metadata": {},
   "source": [
    "## Eigenvalues and eigenvectors of the Leslie Matrix"
   ]
  },
  {
   "cell_type": "code",
   "execution_count": 19,
   "metadata": {
    "collapsed": true,
    "jupyter": {
     "outputs_hidden": true
    },
    "tags": []
   },
   "outputs": [
    {
     "name": "stdout",
     "output_type": "stream",
     "text": [
      "[ 1.047+0.j    -0.524+0.568j -0.524-0.568j]\n",
      "[[ 0.898+0.j     0.827+0.j     0.827-0.j   ]\n",
      " [ 0.429+0.j    -0.363-0.393j -0.363+0.393j]\n",
      " [ 0.102+0.j    -0.014+0.173j -0.014-0.173j]]\n"
     ]
    }
   ],
   "source": [
    "l,v=la.eig(A_mat)\n",
    "print(l)\n",
    "print(v)"
   ]
  },
  {
   "cell_type": "markdown",
   "metadata": {},
   "source": [
    "#### Sort, in order from smallest to largest abs value of eigenvalue"
   ]
  },
  {
   "cell_type": "code",
   "execution_count": 20,
   "metadata": {
    "collapsed": true,
    "jupyter": {
     "outputs_hidden": true
    },
    "tags": []
   },
   "outputs": [
    {
     "name": "stdout",
     "output_type": "stream",
     "text": [
      "[1.047 0.773 0.773]\n",
      "[1 2 0]\n"
     ]
    }
   ],
   "source": [
    "# sorted eigenvalues and eigenvectors\n",
    "idx=np.argsort(np.abs(l))\n",
    "print(np.abs(l))\n",
    "print(idx)"
   ]
  },
  {
   "cell_type": "code",
   "execution_count": 22,
   "metadata": {
    "collapsed": true,
    "jupyter": {
     "outputs_hidden": true
    },
    "tags": []
   },
   "outputs": [
    {
     "name": "stdout",
     "output_type": "stream",
     "text": [
      "(1.0472757407711641+0j)\n"
     ]
    }
   ],
   "source": [
    "# sorted eigenvalues and eigenvectors\n",
    "idx=np.argsort(np.abs(l))\n",
    "l_sorted=l[idx]  \n",
    "v_sorted=v[:,idx]   #rearrange eigenvectors in same order\n",
    "\n",
    "#return largest eigenvalue\n",
    "lambda_max= l_sorted[-1]\n",
    "print(lambda_max)"
   ]
  },
  {
   "cell_type": "markdown",
   "metadata": {},
   "source": [
    "**Agreement once again!**"
   ]
  },
  {
   "cell_type": "markdown",
   "metadata": {},
   "source": [
    "#### Return the stable stage distribution:  the eigenvector corresponding to the largest eigenvalue"
   ]
  },
  {
   "cell_type": "code",
   "execution_count": 23,
   "metadata": {
    "collapsed": true,
    "jupyter": {
     "outputs_hidden": true
    },
    "tags": []
   },
   "outputs": [
    {
     "name": "stdout",
     "output_type": "stream",
     "text": [
      "[0.898+0.j 0.429+0.j 0.102+0.j]\n"
     ]
    }
   ],
   "source": [
    "stable_stage=v_sorted[:,-1]\n",
    "print(stable_stage)"
   ]
  },
  {
   "cell_type": "code",
   "execution_count": null,
   "metadata": {
    "collapsed": true,
    "jupyter": {
     "outputs_hidden": true
    }
   },
   "outputs": [],
   "source": []
  }
 ],
 "metadata": {
  "kernelspec": {
   "display_name": "base",
   "language": "python",
   "name": "python3"
  },
  "language_info": {
   "codemirror_mode": {
    "name": "ipython",
    "version": 3
   },
   "file_extension": ".py",
   "mimetype": "text/x-python",
   "name": "python",
   "nbconvert_exporter": "python",
   "pygments_lexer": "ipython3",
   "version": "3.10.9"
  }
 },
 "nbformat": 4,
 "nbformat_minor": 4
}
