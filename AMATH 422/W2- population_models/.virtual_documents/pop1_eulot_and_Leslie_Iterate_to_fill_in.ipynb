





import matplotlib.pylab as plt   # That gives plotting, and the next line makes plots appear inline in notebook
%matplotlib inline  
import numpy as np  # That gives numerical arrays and tools for manipulating them

import scipy.optimize as opt
import scipy.linalg as la








def f(x):
    return (x**2 - 1)


#search for root between left_bracket and right_bracket

###NOTE! Need to have function value taking opposite signs for this algorithm to work###
left_bracket=0
right_bracket=###TO FILL IN###

opt.brentq(f,left_bracket,right_bracket)








def eulot_func(lam,Ia_arr,fa_arr):
        """compute the Euler-Lotka sum, taking as arguments a scalar and two 1-D numpy arrays"""
        length_of_array=Ia_arr.size
        age_arr=np.arange(0,length_of_array)
        temp_arr=lam**(-(age_arr+1))*Ia_arr*fa_arr 
        return sum(temp_arr) -1 







Ia_arr=np.array([###TO FILL IN###])
fa_arr=np.array([###TO FILL IN###])





lambda_min=.5
lambda_max=5

#Range of lambda values we'll plot over
lambda_arr=np.linspace(lambda_min,lambda_max,100) 

G_arr=np.zeros(lambda_arr.size)

iter_arr=np.arange(lambda_arr.size)

for j in iter_arr:
    G_arr[j]=eulot_func(lambda_arr[j],Ia_arr,fa_arr) 


plt.plot(lambda_arr,G_arr)
plt.xlabel('lambda')
plt.ylabel('G')


#search for root between left_bracket and right_bracket
left_bracket=###TO FILL IN###
right_bracket=###TO FILL IN###

#The first argument of eulot_func is variable we want to solve with respect to.  
#The next arguments are parameters, which we pass like this:
args=(Ia_arr,fa_arr)

opt.brentq(eulot_func,left_bracket,right_bracket,args)











n_zero=np.array([20,240,60])

A_mat=np.array([[###TO FILL IN###],[###TO FILL IN###],[###TO FILL IN###]])
print(A_mat)


Tmax=200

n_vs_t=np.zeros([3,Tmax])

n_vs_t[:,0]=n_zero 


#Print out our quanties so far, check that they make sense
print(n_vs_t[:,0])
print(A_mat)
np.dot(A_mat,n_vs_t[:,0])


iter_arr=np.arange(Tmax-1)

for t in iter_arr:
    n_vs_t[:,t+1]=np.dot(A_mat,n_vs_t[:,t])


print(n_vs_t.shape)
print(iter_arr.shape)


generation_arr=np.arange(Tmax)
plt.plot(generation_arr,n_vs_t[0,:],label="pop 0")
plt.plot(generation_arr,n_vs_t[1,:],label="pop 1")
plt.plot(generation_arr,n_vs_t[2,:],label="pop 2")
plt.xlabel('n')
plt.ylabel('t')
plt.legend()


plt.plot(generation_arr,np.log(n_vs_t[0,:]),label="pop 0")
plt.plot(generation_arr,np.log(n_vs_t[1,:]),label="pop 1")
plt.plot(generation_arr,np.log(n_vs_t[2,:]),label="pop 2")
plt.xlabel('t')
plt.ylabel('log of n')
plt.legend()


help(np.polyfit)


p=np.polyfit(generation_arr,np.log(n_vs_t[0,:]),1)
lambda_estimate=np.exp(p[0])


np.set_printoptions(precision=3, suppress=True)
print(p)
print(lambda_estimate)





generation_arr_after_squiggles=np.arange(25,Tmax)

p=np.polyfit(generation_arr_after_squiggles,np.log(n_vs_t[0,generation_arr_after_squiggles]),1)
lambda_estimate=np.exp(p[0])

print(p)
print(lambda_estimate)











l,v=la.eig(A_mat)
print(l)
print(v)





# sorted eigenvalues and eigenvectors
idx=np.argsort(np.abs(l))
print(np.abs(l))
print(idx)


# sorted eigenvalues and eigenvectors
idx=np.argsort(np.abs(l))
l_sorted=l[idx]  
v_sorted=v[:,idx]   #rearrange eigenvectors in same order

#return largest eigenvalue
lambda_max= l_sorted[-1]
print(lambda_max)








stable_stage=v_sorted[:,-1]
print(stable_stage)



