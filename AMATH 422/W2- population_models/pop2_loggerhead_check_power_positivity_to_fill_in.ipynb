{
 "cells": [
  {
   "cell_type": "code",
   "execution_count": 1,
   "metadata": {
    "tags": []
   },
   "outputs": [],
   "source": [
    "import matplotlib.pylab as plt   # That gives plotting, and the next line makes plots appear inline in notebook\n",
    "%matplotlib inline  \n",
    "\n",
    "import numpy as np  # That gives numerical arrays and tools for manipulating them\n",
    "\n",
    "import scipy.optimize as opt\n",
    "import scipy.linalg as la"
   ]
  },
  {
   "cell_type": "markdown",
   "metadata": {},
   "source": [
    "##  non positive projection matrix"
   ]
  },
  {
   "cell_type": "code",
   "execution_count": 2,
   "metadata": {
    "tags": []
   },
   "outputs": [
    {
     "name": "stdout",
     "output_type": "stream",
     "text": [
      "[[0.000e+00 0.000e+00 0.000e+00 0.000e+00 1.270e+02 4.000e+00 8.000e+01]\n",
      " [6.747e-01 7.370e-01 0.000e+00 0.000e+00 0.000e+00 0.000e+00 0.000e+00]\n",
      " [0.000e+00 4.860e-02 6.610e-01 0.000e+00 0.000e+00 0.000e+00 0.000e+00]\n",
      " [0.000e+00 0.000e+00 1.470e-02 6.907e-01 0.000e+00 0.000e+00 0.000e+00]\n",
      " [0.000e+00 0.000e+00 0.000e+00 5.180e-02 0.000e+00 0.000e+00 0.000e+00]\n",
      " [0.000e+00 0.000e+00 0.000e+00 0.000e+00 8.091e-01 0.000e+00 0.000e+00]\n",
      " [0.000e+00 0.000e+00 0.000e+00 0.000e+00 0.000e+00 8.091e-01 8.089e-01]]\n"
     ]
    }
   ],
   "source": [
    "A=np.array([\n",
    "    [ 0,    0,     0,     0,    127,       4,   80],  \n",
    " [.6747,  .737,   0,     0,     0,         0,    0], \n",
    " [   0 , .0486 , .661,    0,     0,         0,    0],  \n",
    " [   0 ,    0 , .0147 ,  .6907 ,  0 ,     0  ,  0 ],\n",
    " [   0 ,    0 ,   0   , .0518 ,    0 ,     0  ,  0 ],\n",
    " [   0 ,    0 ,   0  ,   0  ,  .8091   ,   0  ,  0 ] ,\n",
    " [   0 ,    0  ,  0  ,   0  ,   0    ,   .8091 , .8089  ]])\n",
    "\n",
    "print(A)\n"
   ]
  },
  {
   "cell_type": "markdown",
   "metadata": {},
   "source": [
    "Flexible syntax within numpy, so can compute any matrix power"
   ]
  },
  {
   "cell_type": "code",
   "execution_count": 11,
   "metadata": {
    "tags": []
   },
   "outputs": [
    {
     "name": "stdout",
     "output_type": "stream",
     "text": [
      "[[6.70409974e-03 1.58645167e-02 2.09013004e-01 6.13743182e+00\n",
      "  2.81218038e+01 2.77249176e+01 2.79590643e+01]\n",
      " [1.48845574e-01 1.69293677e-01 2.20242581e-01 1.07319395e+01\n",
      "  8.95330897e+01 8.16416762e+01 9.67501359e+01]\n",
      " [3.93718563e-02 4.92940446e-02 9.22083398e-02 7.28148942e-01\n",
      "  9.65147172e+00 7.08281449e+00 1.04956599e+01]\n",
      " [1.62924510e-03 2.52569420e-03 1.25037616e-02 1.17471042e-01\n",
      "  2.06636862e-01 9.60160509e-02 2.02593844e-01]\n",
      " [7.26564113e-05 1.25085069e-04 7.95128883e-04 8.30711973e-03\n",
      "  6.70409974e-03 1.82477470e-03 5.78791966e-03]\n",
      " [4.21961028e-05 8.71295425e-05 7.61149315e-04 9.53871307e-03\n",
      "  2.56566527e-03 8.08083551e-05 1.61616710e-03]\n",
      " [1.63455100e-05 7.01982360e-05 1.55439848e-03 5.75334317e-02\n",
      "  2.80274602e-01 2.80205321e-01 2.80136058e-01]]\n"
     ]
    }
   ],
   "source": [
    "# TAKE MATRIX TO POWER SPECIFIED IN CLASS, AND CHECK POWER POSITIVITY\n",
    "\n",
    "C= np.linalg.matrix_power(A, 6)\n",
    "### TO FILL IN -- use np.linalg.matrix_power ### \n",
    "print(C)\n",
    "\n"
   ]
  },
  {
   "cell_type": "markdown",
   "metadata": {},
   "source": [
    "Based on this we expect will have a single, real positive dominant eigenvalue, and that's what we find"
   ]
  },
  {
   "cell_type": "code",
   "execution_count": 12,
   "metadata": {
    "tags": []
   },
   "outputs": [
    {
     "name": "stdout",
     "output_type": "stream",
     "text": [
      "[0.14875044 0.14875044 0.26545281 0.37166677 0.77599166 0.77599166\n",
      " 0.94503098]\n"
     ]
    }
   ],
   "source": [
    "# Compute eigenvalues\n",
    "l,v = la.eig(A)\n",
    "\n",
    "#sort eigenvalues\n",
    "idx=np.argsort(np.abs(l))\n",
    "l_sorted=l[idx]  \n",
    "\n",
    "print(np.abs(l_sorted))\n"
   ]
  },
  {
   "cell_type": "code",
   "execution_count": null,
   "metadata": {},
   "outputs": [],
   "source": []
  }
 ],
 "metadata": {
  "kernelspec": {
   "display_name": "Python 3 (ipykernel)",
   "language": "python",
   "name": "python3"
  },
  "language_info": {
   "codemirror_mode": {
    "name": "ipython",
    "version": 3
   },
   "file_extension": ".py",
   "mimetype": "text/x-python",
   "name": "python",
   "nbconvert_exporter": "python",
   "pygments_lexer": "ipython3",
   "version": "3.10.9"
  }
 },
 "nbformat": 4,
 "nbformat_minor": 4
}
